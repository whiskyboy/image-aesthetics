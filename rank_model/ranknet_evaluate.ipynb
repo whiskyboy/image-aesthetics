{
 "cells": [
  {
   "cell_type": "markdown",
   "metadata": {},
   "source": [
    "## 模型评估\n",
    "\n",
    "1. 从验证集中挑选出分类正确的pair，按照置信度（预测概率）从高到低排序展示这些图片pair\n",
    "2. 从验证集中挑选出分类错误的pair，按照置信度（预测概率）从高到低排序展示这些图片pair\n",
    "3. 观察在不同的分类阈值下，验证集上的分类准确率和召回率（能给出判断结果的样本占比），找到合适的分类阈值\n",
    "4. 编辑模型：输入一张图片，输出和100张基准图片进行比较后的得分"
   ]
  },
  {
   "cell_type": "code",
   "execution_count": null,
   "metadata": {},
   "outputs": [],
   "source": [
    "# define the model\n",
    "from keras.models import Model, Sequential\n",
    "from keras.layers import Input, Dense, concatenate\n",
    "from keras.layers.normalization import BatchNormalization\n",
    "from keras.layers.core import Dropout\n",
    "from keras import optimizers\n",
    "from keras.utils import to_categorical\n",
    "\n",
    "img_feature_a = Input(shape=(2048,))\n",
    "img_feature_b = Input(shape=(2048,))\n",
    "\n",
    "shared_fc_layer = Sequential([\n",
    "    Dense(1024, activation='relu', input_shape=(2048, )),\n",
    "    BatchNormalization(),\n",
    "    Dropout(0.5),\n",
    "    Dense(256, activation='relu'),\n",
    "    BatchNormalization(), \n",
    "    Dropout(0.5),\n",
    "])\n",
    "\n",
    "encoded_a = shared_fc_layer(img_feature_a)\n",
    "encoded_b = shared_fc_layer(img_feature_b)\n",
    "\n",
    "merged_vector = concatenate([encoded_a, encoded_b])\n",
    "\n",
    "#x = merged_vector\n",
    "x = Dense(256, activation='relu')(merged_vector)\n",
    "x = BatchNormalization()(x)\n",
    "x = Dropout(0.5)(x)\n",
    "output = Dense(2, activation='softmax')(x)\n",
    "\n",
    "model = Model(inputs=[img_feature_a, img_feature_b], outputs=output)\n",
    "\n",
    "model.load_weights(\"./data/rank_model.h5\")"
   ]
  },
  {
   "cell_type": "code",
   "execution_count": null,
   "metadata": {},
   "outputs": [],
   "source": [
    "# data prepare\n",
    "import cPickle as pickle\n",
    "import numpy as np\n",
    "import lmdb\n",
    "import random\n",
    "\n",
    "env = lmdb.open(\"./data/features\")\n",
    "txn = env.begin()\n",
    "\n",
    "def get_XY(dataset):\n",
    "    img_pairs = []\n",
    "    X1 = []\n",
    "    X2 = []\n",
    "    Y = []\n",
    "    for img_a, s_a, img_b, s_b, cmpret in dataset:\n",
    "        feature_a = txn.get(img_a)\n",
    "        feature_b = txn.get(img_b)\n",
    "        if feature_a is None or feature_b is None:\n",
    "            continue\n",
    "        feature_a = np.fromstring(feature_a, np.float32)\n",
    "        feature_b = np.fromstring(feature_b, np.float32)\n",
    "        img_pairs.append((img_a, s_a, img_b, s_b))\n",
    "        X1.append(feature_a)\n",
    "        X2.append(feature_b)\n",
    "        Y.append(cmpret)\n",
    "    X1 = np.array(X1)\n",
    "    X2 = np.array(X2)\n",
    "    Y = np.array(Y)\n",
    "    return img_pairs, X1, X2, Y\n",
    "\n",
    "batch_size = 128\n",
    "valid_list = pickle.load(open(\"./data/valid.list\", 'rb'))\n",
    "img_pairs, X1_valid, X2_valid, Y_valid = get_XY(valid_list)\n",
    "\n",
    "print len(img_pairs)\n",
    "env.close()"
   ]
  },
  {
   "cell_type": "code",
   "execution_count": null,
   "metadata": {
    "collapsed": true
   },
   "outputs": [],
   "source": [
    "Y_predict = model.predict([X1_valid, X2_valid], batch_size=batch_size)\n",
    "Y_predict_class = Y_predict[:, 1] > 0.5"
   ]
  },
  {
   "cell_type": "code",
   "execution_count": null,
   "metadata": {},
   "outputs": [],
   "source": [
    "%matplotlib inline\n",
    "from PIL import Image\n",
    "import matplotlib.pyplot as plt\n",
    "import random\n",
    "import os\n",
    "\n",
    "img_path = \"../data/img/\"\n",
    "def cmpPlot(imgid_a, s_a, imgid_b, s_b):\n",
    "    plt.figure()\n",
    "    \n",
    "    plt.subplot(1, 2, 1)\n",
    "    plt.title(\"%s_%s\"%(imgid_a, s_a))\n",
    "    img = Image.open(img_path+\"%s.jpg\"%imgid_a)\n",
    "    plt.imshow(img)\n",
    "    plt.axis('off')\n",
    "    \n",
    "    plt.subplot(1, 2, 2)\n",
    "    plt.title(\"%s_%s\"%(imgid_b, s_b))\n",
    "    img = Image.open(img_path+\"%s.jpg\"%imgid_b)\n",
    "    plt.imshow(img)\n",
    "    plt.axis('off')\n",
    "    \n",
    "    plt.show()\n",
    "    \n",
    "acc = 0\n",
    "for i, (img_a, s_a, img_b, s_b) in enumerate(img_pairs):\n",
    "    if Y_predict_class[i] != Y_valid[i]:\n",
    "        #print img_a, s_a, img_b, s_b, Y_predict_class[i], Y_predict[i, 1]\n",
    "        acc += 1\n",
    "    if img_a == \"55046\":\n",
    "        print img_a, s_a, img_b, s_b, Y_predict_class[i], Y_predict[i, 1]\n",
    "#rint acc * 1.0 / len(img_pairs)"
   ]
  },
  {
   "cell_type": "code",
   "execution_count": null,
   "metadata": {},
   "outputs": [],
   "source": [
    "cmpPlot(\"55046\", 8.0, \"55092\", 9.0)"
   ]
  },
  {
   "cell_type": "code",
   "execution_count": null,
   "metadata": {},
   "outputs": [],
   "source": [
    "img_path = \"../data/img/\"\n",
    "def Plot(imgid, s):\n",
    "    plt.figure()\n",
    "    \n",
    "    plt.title(\"%s_%s\"%(imgid, s))\n",
    "    img = Image.open(img_path+\"%s.jpg\"%imgid)\n",
    "    plt.imshow(img)\n",
    "    plt.axis('off')\n",
    "    \n",
    "    plt.show()\n",
    "    \n",
    "for img, s in sorted(p_score.items(), key=lambda x: x[1]):\n",
    "    Plot(img, s)"
   ]
  },
  {
   "cell_type": "code",
   "execution_count": null,
   "metadata": {},
   "outputs": [],
   "source": [
    "Y_valid == Y_predict_class"
   ]
  },
  {
   "cell_type": "code",
   "execution_count": null,
   "metadata": {
    "collapsed": true
   },
   "outputs": [],
   "source": []
  }
 ],
 "metadata": {
  "kernelspec": {
   "display_name": "Python 2",
   "language": "python",
   "name": "python2"
  },
  "language_info": {
   "codemirror_mode": {
    "name": "ipython",
    "version": 2
   },
   "file_extension": ".py",
   "mimetype": "text/x-python",
   "name": "python",
   "nbconvert_exporter": "python",
   "pygments_lexer": "ipython2",
   "version": "2.7.13"
  }
 },
 "nbformat": 4,
 "nbformat_minor": 2
}
