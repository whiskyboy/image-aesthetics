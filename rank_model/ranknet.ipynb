{
 "cells": [
  {
   "cell_type": "code",
   "execution_count": 21,
   "metadata": {},
   "outputs": [
    {
     "name": "stdout",
     "output_type": "stream",
     "text": [
      "____________________________________________________________________________________________________\n",
      "Layer (type)                     Output Shape          Param #     Connected to                     \n",
      "====================================================================================================\n",
      "input_18 (InputLayer)            (None, 2048)          0                                            \n",
      "____________________________________________________________________________________________________\n",
      "sequential_9 (Sequential)        (None, 1)             525825      input_17[0][0]                   \n",
      "                                                                   input_18[0][0]                   \n",
      "____________________________________________________________________________________________________\n",
      "input_17 (InputLayer)            (None, 2048)          0                                            \n",
      "____________________________________________________________________________________________________\n",
      "lambda_8 (Lambda)                (None, 1)             0           sequential_9[2][0]               \n",
      "____________________________________________________________________________________________________\n",
      "add_8 (Add)                      (None, 1)             0           sequential_9[1][0]               \n",
      "                                                                   lambda_8[0][0]                   \n",
      "____________________________________________________________________________________________________\n",
      "activation_8 (Activation)        (None, 1)             0           add_8[0][0]                      \n",
      "====================================================================================================\n",
      "Total params: 525,825\n",
      "Trainable params: 525,313\n",
      "Non-trainable params: 512\n",
      "____________________________________________________________________________________________________\n"
     ]
    }
   ],
   "source": [
    "# define the model\n",
    "from keras.models import Model, Sequential\n",
    "from keras.layers import Input, Dense, concatenate, Activation, Add, Lambda\n",
    "from keras.layers.normalization import BatchNormalization\n",
    "from keras.layers.core import Dropout\n",
    "from keras import optimizers\n",
    "from keras.utils import to_categorical\n",
    "\n",
    "img_feature_a = Input(shape=(2048,))\n",
    "img_feature_b = Input(shape=(2048,))\n",
    "\n",
    "shared_fc_layer = Sequential([\n",
    "    Dense(256, activation='relu', input_shape=(2048, )),\n",
    "    BatchNormalization(),\n",
    "    Dropout(0.5),\n",
    "    #Dense(128, activation='relu', input_shape=(2048, )),\n",
    "    #BatchNormalization(),\n",
    "    #Dropout(0.5),\n",
    "    Dense(1),\n",
    "])\n",
    "\n",
    "encoded_a = shared_fc_layer(img_feature_a)\n",
    "encoded_b = shared_fc_layer(img_feature_b)\n",
    "\n",
    "negated_encoded_b = Lambda(lambda x: -x, output_shape=(1,))(encoded_b)\n",
    "diff = Add()([encoded_a, negated_encoded_b])\n",
    "\n",
    "output = Activation(\"sigmoid\")(diff)\n",
    "\n",
    "model = Model(inputs=[img_feature_a, img_feature_b], outputs=output)\n",
    "\n",
    "#optimizer = optimizers.RMSprop(lr=1e-3, rho=0.9, epsilon=1e-08, decay=0.0)\n",
    "optimizer = optimizers.Adam(lr=0.001, beta_1=0.9, beta_2=0.999, epsilon=1e-08, decay=0.0)\n",
    "model.compile(optimizer=optimizer,\n",
    "              loss='binary_crossentropy',\n",
    "              metrics=['accuracy'])\n",
    "\n",
    "model.summary()"
   ]
  },
  {
   "cell_type": "code",
   "execution_count": 2,
   "metadata": {},
   "outputs": [
    {
     "name": "stdout",
     "output_type": "stream",
     "text": [
      "# of trainset: 452243\n",
      "# of validset: 4365\n"
     ]
    }
   ],
   "source": [
    "# data prepare\n",
    "import cPickle as pickle\n",
    "import numpy as np\n",
    "import lmdb\n",
    "import random\n",
    "\n",
    "env = lmdb.open(\"./data/features\")\n",
    "txn = env.begin()\n",
    "\n",
    "def get_XY(dataset):\n",
    "    X1 = []\n",
    "    X2 = []\n",
    "    Y = []\n",
    "    for img_a, s_a, img_b, s_b, cmpret in dataset:\n",
    "        feature_a = txn.get(img_a)\n",
    "        feature_b = txn.get(img_b)\n",
    "        if feature_a is None or feature_b is None:\n",
    "            continue\n",
    "        feature_a = np.fromstring(feature_a, np.float32)\n",
    "        feature_b = np.fromstring(feature_b, np.float32)\n",
    "        X1.append(feature_a)\n",
    "        X2.append(feature_b)\n",
    "        Y.append(cmpret)\n",
    "    X1 = np.array(X1)\n",
    "    X2 = np.array(X2)\n",
    "    Y = np.array(Y)\n",
    "    return X1, X2, Y\n",
    "\n",
    "batch_size = 128\n",
    "train_list = pickle.load(open(\"./data/ranknet/train.list\", 'rb'))\n",
    "valid_list = pickle.load(open(\"./data/ranknet/valid.list\", 'rb'))\n",
    "print \"# of trainset: %d\"%len(train_list)\n",
    "print \"# of validset: %d\"%len(valid_list)\n",
    "\n",
    "X1_train, X2_train, Y_train = get_XY(train_list)\n",
    "X1_valid, X2_valid, Y_valid = get_XY(valid_list)\n",
    "\n",
    "train_list = []\n",
    "valid_list = []\n",
    "\n",
    "env.close()"
   ]
  },
  {
   "cell_type": "code",
   "execution_count": 22,
   "metadata": {},
   "outputs": [
    {
     "name": "stdout",
     "output_type": "stream",
     "text": [
      "Train on 448305 samples, validate on 4303 samples\n",
      "Epoch 1/3\n",
      "448305/448305 [==============================] - 14s - loss: 0.6722 - acc: 0.6014 - val_loss: 0.6571 - val_acc: 0.6031\n",
      "Epoch 2/3\n",
      "448305/448305 [==============================] - 14s - loss: 0.6528 - acc: 0.6138 - val_loss: 0.6553 - val_acc: 0.6063\n",
      "Epoch 3/3\n",
      "448305/448305 [==============================] - 14s - loss: 0.6480 - acc: 0.6208 - val_loss: 0.6579 - val_acc: 0.6082\n"
     ]
    },
    {
     "data": {
      "text/plain": [
       "<keras.callbacks.History at 0x7f17f40d6710>"
      ]
     },
     "execution_count": 22,
     "metadata": {},
     "output_type": "execute_result"
    }
   ],
   "source": [
    "# training the model\n",
    "#optimizer = optimizers.Adam(lr=0.001, beta_1=0.9, beta_2=0.999, epsilon=1e-08, decay=0.0)\n",
    "#model.compile(optimizer=optimizer,\n",
    "#              loss='binary_crossentropy',\n",
    "#              metrics=['accuracy'])\n",
    "\n",
    "model.fit([X1_train, X2_train], Y_train, batch_size=batch_size, epochs=3, shuffle=True,\n",
    "         validation_data=([X1_valid, X2_valid], Y_valid))"
   ]
  },
  {
   "cell_type": "code",
   "execution_count": 23,
   "metadata": {
    "collapsed": true
   },
   "outputs": [],
   "source": [
    "model.save_weights(\"./data/ranknet/ranknet.h5\")"
   ]
  },
  {
   "cell_type": "code",
   "execution_count": null,
   "metadata": {
    "collapsed": true
   },
   "outputs": [],
   "source": [
    "# 输出valid的预估结果\n",
    "import cPickle as pickle\n",
    "\n",
    "model.load_weights(\"./data/ranknet/ranknet.h5\")\n",
    "Y_predict = model.predict([X1_valid, X2_valid], batch_size=batch_size)\n",
    "assert(len(Y_predict) == len(valid_img_pairs))\n",
    "\n",
    "Y_predict_map = {}\n",
    "for i, (imga, imgb) in enumerate(valid_img_pairs):\n",
    "    Y_predict_map[(imga, imgb)] = Y_predict[i, 1]\n",
    "    \n",
    "#pickle.dump(Y_predict_map, open(\"./data/valid_predict_by_rank_model.pick\", 'wb'))"
   ]
  },
  {
   "cell_type": "code",
   "execution_count": null,
   "metadata": {
    "collapsed": true
   },
   "outputs": [],
   "source": []
  }
 ],
 "metadata": {
  "kernelspec": {
   "display_name": "Python 2",
   "language": "python",
   "name": "python2"
  },
  "language_info": {
   "codemirror_mode": {
    "name": "ipython",
    "version": 2
   },
   "file_extension": ".py",
   "mimetype": "text/x-python",
   "name": "python",
   "nbconvert_exporter": "python",
   "pygments_lexer": "ipython2",
   "version": "2.7.13"
  }
 },
 "nbformat": 4,
 "nbformat_minor": 2
}
