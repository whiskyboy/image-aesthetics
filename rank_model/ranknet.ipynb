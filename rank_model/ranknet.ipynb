{
 "cells": [
  {
   "cell_type": "code",
   "execution_count": 4,
   "metadata": {},
   "outputs": [
    {
     "name": "stdout",
     "output_type": "stream",
     "text": [
      "____________________________________________________________________________________________________\n",
      "Layer (type)                     Output Shape          Param #     Connected to                     \n",
      "====================================================================================================\n",
      "input_3 (InputLayer)             (None, 4096)          0                                            \n",
      "____________________________________________________________________________________________________\n",
      "input_4 (InputLayer)             (None, 4096)          0                                            \n",
      "____________________________________________________________________________________________________\n",
      "dense_3 (Dense)                  (None, 256)           1048832     input_3[0][0]                    \n",
      "                                                                   input_4[0][0]                    \n",
      "____________________________________________________________________________________________________\n",
      "batch_normalization_2 (BatchNorm (None, 256)           1024        dense_3[0][0]                    \n",
      "                                                                   dense_3[1][0]                    \n",
      "____________________________________________________________________________________________________\n",
      "dropout_2 (Dropout)              (None, 256)           0           batch_normalization_2[0][0]      \n",
      "                                                                   batch_normalization_2[1][0]      \n",
      "____________________________________________________________________________________________________\n",
      "dense_4 (Dense)                  (None, 1)             257         dropout_2[0][0]                  \n",
      "                                                                   dropout_2[1][0]                  \n",
      "____________________________________________________________________________________________________\n",
      "lambda_2 (Lambda)                (None, 1)             0           dense_4[1][0]                    \n",
      "____________________________________________________________________________________________________\n",
      "add_2 (Add)                      (None, 1)             0           dense_4[0][0]                    \n",
      "                                                                   lambda_2[0][0]                   \n",
      "____________________________________________________________________________________________________\n",
      "activation_2 (Activation)        (None, 1)             0           add_2[0][0]                      \n",
      "====================================================================================================\n",
      "Total params: 1,050,113\n",
      "Trainable params: 1,049,601\n",
      "Non-trainable params: 512\n",
      "____________________________________________________________________________________________________\n"
     ]
    }
   ],
   "source": [
    "# define the model\n",
    "from keras.models import Model, Sequential\n",
    "from keras.layers import Input, Dense, Activation, Add, Lambda\n",
    "from keras.layers.normalization import BatchNormalization\n",
    "from keras.layers.core import Dropout\n",
    "from keras import optimizers\n",
    "\n",
    "img_feature_a = Input(shape=(1024*4,))\n",
    "img_feature_b = Input(shape=(1024*4,))\n",
    "\n",
    "h_1 = Dense(256, activation='relu')\n",
    "bn_1 = BatchNormalization()\n",
    "do_1 = Dropout(0.5)\n",
    "s = Dense(1)\n",
    "\n",
    "def aesthetic_layer(x):\n",
    "    x = h_1(x)\n",
    "    x = bn_1(x)\n",
    "    x = do_1(x)\n",
    "    return s(x)\n",
    "\n",
    "score_a = aesthetic_layer(img_feature_a)\n",
    "score_b = aesthetic_layer(img_feature_b)\n",
    "\n",
    "negated_score_b = Lambda(lambda x: -x, output_shape=(1,))(score_b)\n",
    "diff = Add()([score_a, negated_score_b])\n",
    "\n",
    "output = Activation(\"sigmoid\")(diff)\n",
    "\n",
    "ranknet = Model(inputs=[img_feature_a, img_feature_b], outputs=output)\n",
    "\n",
    "#optimizer = optimizers.RMSprop(lr=1e-3, rho=0.9, epsilon=1e-08, decay=0.0)\n",
    "optimizer = optimizers.Adam(lr=0.001, beta_1=0.9, beta_2=0.999, epsilon=1e-08, decay=0.0)\n",
    "ranknet.compile(optimizer=optimizer,\n",
    "              loss='binary_crossentropy',\n",
    "              metrics=['accuracy'])\n",
    "\n",
    "ranknet.summary()"
   ]
  },
  {
   "cell_type": "code",
   "execution_count": 5,
   "metadata": {
    "collapsed": true,
    "scrolled": false
   },
   "outputs": [],
   "source": [
    "# define the data\n",
    "import keras.backend as K\n",
    "import os\n",
    "import numpy as np\n",
    "import lmdb\n",
    "import random\n",
    "import cPickle as pickle\n",
    "\n",
    "train_list = pickle.load(open(\"./data/train_list.pick\", 'rb'))\n",
    "valid_list = pickle.load(open(\"./data/valid_list.pick\", 'rb'))\n",
    "env = lmdb.open(\"./data/mobilenet_feature/\")\n",
    "txn = env.begin()\n",
    "batch_size = 64 \n",
    "\n",
    "def get_feature(imgid):\n",
    "    str_feature = txn.get(imgid)\n",
    "    return np.fromstring(str_feature, np.float32)\n",
    "\n",
    "def generate_batch(dataset, batch_size, shuffle=True):\n",
    "    while True:\n",
    "        if shuffle:\n",
    "            random.shuffle(dataset)\n",
    "            \n",
    "        for index in range(0, len(dataset), batch_size):\n",
    "            if index + batch_size > len(dataset):\n",
    "                current_batch_size = len(dataset) - index\n",
    "            else:\n",
    "                current_batch_size = batch_size\n",
    "            index_array = dataset[index:index+current_batch_size]\n",
    "            \n",
    "            batch_x1 = np.zeros((current_batch_size, 1024*4), dtype=K.floatx())\n",
    "            batch_x2 = np.zeros((current_batch_size, 1024*4), dtype=K.floatx())\n",
    "            batch_y = np.zeros((current_batch_size, ), dtype=K.floatx())\n",
    "            for i, (img_a, s_a, img_b, s_b, cmp_ret) in enumerate(index_array):\n",
    "                x1 = get_feature(img_a)\n",
    "                x2 = get_feature(img_b)\n",
    "                batch_x1[i] = x1\n",
    "                batch_x2[i] = x2\n",
    "                batch_y[i] = cmp_ret\n",
    "            yield ([batch_x1, batch_x2], batch_y)"
   ]
  },
  {
   "cell_type": "code",
   "execution_count": null,
   "metadata": {
    "scrolled": true
   },
   "outputs": [
    {
     "name": "stdout",
     "output_type": "stream",
     "text": [
      "Epoch 1/3\n",
      "1537/6947 [=====>........................] - ETA: 24s - loss: 0.6874 - acc: 0.6060"
     ]
    }
   ],
   "source": [
    "ranknet.fit_generator(generate_batch(train_list, batch_size), steps_per_epoch=len(train_list) // batch_size, epochs=3,\n",
    "                       validation_data=generate_batch(valid_list, batch_size), validation_steps=len(valid_list) // batch_size)"
   ]
  },
  {
   "cell_type": "code",
   "execution_count": null,
   "metadata": {
    "collapsed": true
   },
   "outputs": [],
   "source": [
    "ranknet.save_weights(\"./model/ranknet.h5\")"
   ]
  },
  {
   "cell_type": "code",
   "execution_count": null,
   "metadata": {
    "collapsed": true
   },
   "outputs": [],
   "source": []
  }
 ],
 "metadata": {
  "kernelspec": {
   "display_name": "Python 2",
   "language": "python",
   "name": "python2"
  },
  "language_info": {
   "codemirror_mode": {
    "name": "ipython",
    "version": 2
   },
   "file_extension": ".py",
   "mimetype": "text/x-python",
   "name": "python",
   "nbconvert_exporter": "python",
   "pygments_lexer": "ipython2",
   "version": "2.7.13"
  }
 },
 "nbformat": 4,
 "nbformat_minor": 2
}
