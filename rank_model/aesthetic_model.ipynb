{
 "cells": [
  {
   "cell_type": "code",
   "execution_count": null,
   "metadata": {
    "collapsed": true
   },
   "outputs": [],
   "source": [
    "# define the model\n",
    "from keras.applications.inception_v3 import InceptionV3\n",
    "from keras.preprocessing import image\n",
    "from keras.applications.inception_v3 import preprocess_input\n",
    "from keras.models import Model, Sequential\n",
    "from keras.layers import Input, Dense, concatenate, GlobalAveragePooling2D, Activation, Add, Lambda\n",
    "from keras.layers.normalization import BatchNormalization\n",
    "from keras.layers.core import Dropout\n",
    "from keras import backend as K\n",
    "from keras import optimizers\n",
    "from keras.utils import to_categorical\n",
    "import numpy as np"
   ]
  },
  {
   "cell_type": "code",
   "execution_count": null,
   "metadata": {},
   "outputs": [],
   "source": [
    "img_feature_a = Input(shape=(2048,))\n",
    "img_feature_b = Input(shape=(2048,))\n",
    "\n",
    "aesthetic_layer = Sequential([\n",
    "    Dense(256, activation='relu', input_shape=(2048, )),\n",
    "    BatchNormalization(),\n",
    "    Dropout(0.5),\n",
    "    Dense(1)\n",
    "])\n",
    "\n",
    "score_a = aesthetic_layer(img_feature_a)\n",
    "score_b = aesthetic_layer(img_feature_b)\n",
    "\n",
    "negated_score_b = Lambda(lambda x: -x, output_shape=(1,))(score_b)\n",
    "diff = Add()([score_a, negated_score_b])\n",
    "\n",
    "output = Activation(\"sigmoid\")(diff)\n",
    "\n",
    "ranknet = Model(inputs=[img_feature_a, img_feature_b], outputs=output)\n",
    "\n",
    "ranknet.load_weights(\"./data/ranknet/ranknet.h5\")\n",
    "\n",
    "##########################################################################################################################\n",
    "\n",
    "base_model = InceptionV3(weights='imagenet', include_top=False)\n",
    "x = base_model.output\n",
    "x = GlobalAveragePooling2D()(x) # add a global spatial average pooling layer\n",
    "x = aesthetic_layer(x)\n",
    "aesthetic_model = Model(inputs=base_model.input, outputs=x)\n",
    "\n",
    "aesthetic_model.summary()"
   ]
  },
  {
   "cell_type": "code",
   "execution_count": null,
   "metadata": {
    "collapsed": true
   },
   "outputs": [],
   "source": [
    "def img_preprocess(imgfile):\n",
    "    try:\n",
    "        img = image.load_img(imgfile, target_size=(299, 299))\n",
    "        x = image.img_to_array(img)\n",
    "        x = preprocess_input(x)\n",
    "        return x\n",
    "    except:\n",
    "        return None\n",
    "\n",
    "def sigmoid(x):\n",
    "    return 1.0/(1+np.exp(-x))\n",
    "\n",
    "def get_aesthetic_score(imgfile):\n",
    "    x = img_preprocess(imgfile)\n",
    "    score = aesthetic_model.predict(np.array([x]))\n",
    "    return sigmoid(score)\n",
    "\n",
    "def get_aesthetic_score_on_batch(imgfiles):\n",
    "    X = []\n",
    "    valid_imgfiles = []\n",
    "    for imgfile in imgfiles:\n",
    "        x = img_preprocess(imgfile)\n",
    "        if x is None:\n",
    "            continue\n",
    "        X.append(x)\n",
    "        valid_imgfiles.append(imgfile)\n",
    "    scores = aesthetic_model.predict(np.array(X))\n",
    "    return valid_imgfiles, sigmoid(scores)"
   ]
  },
  {
   "cell_type": "code",
   "execution_count": null,
   "metadata": {
    "collapsed": true
   },
   "outputs": [],
   "source": [
    "# test1\n",
    "%matplotlib inline\n",
    "from PIL import Image\n",
    "import matplotlib.pyplot as plt\n",
    "from os.path import basename, splitext\n",
    "import random\n",
    "\n",
    "def Plot(imgfile, score):\n",
    "    imgid = splitext(basename(imgfile))[0]\n",
    "    \n",
    "    plt.figure()\n",
    "    \n",
    "    plt.title(\"%s_%s\"%(imgid, score))\n",
    "    img = Image.open(imgfile)\n",
    "    plt.imshow(img)\n",
    "    plt.axis('off')\n",
    "    \n",
    "    plt.show()\n",
    "\n",
    "imgids_by_date = {}\n",
    "with open(\"../data/img_attr.csv\") as fin:\n",
    "    for line in fin:\n",
    "        attrs = line.strip().split(\"\\t\")\n",
    "        if len(attrs) != 7:\n",
    "            continue\n",
    "        imgid = attrs[0]\n",
    "        date = attrs[5][:8]\n",
    "        imgids_by_date.setdefault(date, [])\n",
    "        imgids_by_date[date].append(imgid)"
   ]
  },
  {
   "cell_type": "code",
   "execution_count": null,
   "metadata": {
    "collapsed": true
   },
   "outputs": [],
   "source": [
    "curdate = \"2017/04/\"\n",
    "imgfiles = map(lambda x: \"../data/img/%s.jpg\"%x, imgids_by_date[curdate])\n",
    "imgfiles, imgscores = get_aesthetic_score_on_batch(imgfiles)\n",
    "img2score = sorted(zip(imgfiles, imgscores), key=lambda x: x[1], reverse=True)"
   ]
  },
  {
   "cell_type": "code",
   "execution_count": null,
   "metadata": {},
   "outputs": [],
   "source": [
    "for imgfile, score in img2score[:10]:\n",
    "    Plot(imgfile, np.round(score*100))\n",
    "    \n",
    "for imgfile, score in img2score[-10:]:\n",
    "    Plot(imgfile, np.round(score*100))\n",
    "    \n",
    "for imgfile, score in random.sample(img2score, 10):\n",
    "    Plot(imgfile, np.round(score*100))"
   ]
  },
  {
   "cell_type": "code",
   "execution_count": null,
   "metadata": {},
   "outputs": [],
   "source": [
    "# test2\n",
    "import os\n",
    "\n",
    "mypic_path = \"../data/test_img/mypic/\"\n",
    "myimgfiles = [mypic_path+imgfile for imgfile in os.listdir(mypic_path)]\n",
    "myimgfiles, myimgscores = get_aesthetic_score_on_batch(myimgfiles)\n",
    "myimg2score = sorted(zip(myimgfiles, myimgscores), key=lambda x: x[1], reverse=True)"
   ]
  },
  {
   "cell_type": "code",
   "execution_count": null,
   "metadata": {},
   "outputs": [],
   "source": [
    "for imgfile, score in myimg2score[-100:]:\n",
    "    Plot(imgfile, np.round(score*100))"
   ]
  },
  {
   "cell_type": "code",
   "execution_count": null,
   "metadata": {},
   "outputs": [],
   "source": [
    "for imgfile, score in myimg2score:\n",
    "    if splitext(basename(imgfile))[0].startswith(\"20160610\"):\n",
    "        Plot(imgfile, np.round(score*100))"
   ]
  },
  {
   "cell_type": "code",
   "execution_count": null,
   "metadata": {
    "collapsed": true
   },
   "outputs": [],
   "source": []
  }
 ],
 "metadata": {
  "kernelspec": {
   "display_name": "Python 2",
   "language": "python",
   "name": "python2"
  },
  "language_info": {
   "codemirror_mode": {
    "name": "ipython",
    "version": 2
   },
   "file_extension": ".py",
   "mimetype": "text/x-python",
   "name": "python",
   "nbconvert_exporter": "python",
   "pygments_lexer": "ipython2",
   "version": "2.7.13"
  }
 },
 "nbformat": 4,
 "nbformat_minor": 2
}
