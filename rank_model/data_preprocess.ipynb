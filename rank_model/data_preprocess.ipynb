{
 "cells": [
  {
   "cell_type": "code",
   "execution_count": null,
   "metadata": {
    "collapsed": false
   },
   "outputs": [],
   "source": [
    "import numpy as np\n",
    "\n",
    "def get_score(zan_num, cai_num, clk_num):\n",
    "    zan_num = max(zan_num - 1, 0)\n",
    "    return zan_num - cai_num + np.log(clk_num+1)\n",
    "\n",
    "img_score_by_date = {}\n",
    "with open(\"../data/img_attr.csv\", 'r') as fin:\n",
    "    for line in fin:\n",
    "        fields = line.strip().split(\"\\t\")\n",
    "        if len(fields) != 7:\n",
    "            continue\n",
    "        imgid = fields[0]\n",
    "        zan_num = int(fields[1])\n",
    "        cai_num = int(fields[2])\n",
    "        clk_num = int(fields[3])\n",
    "        score = get_score(zan_num, cai_num, clk_num)\n",
    "        date = fields[5]\n",
    "        if date >= \"2015/01\" and date < \"2017/05\":\n",
    "            img_score_by_date.setdefault(date, [])\n",
    "            img_score_by_date[date].append((imgid, score))"
   ]
  },
  {
   "cell_type": "code",
   "execution_count": null,
   "metadata": {
    "collapsed": false
   },
   "outputs": [],
   "source": [
    "%matplotlib inline\n",
    "from PIL import Image\n",
    "import matplotlib.pyplot as plt\n",
    "import random\n",
    "import os\n",
    "\n",
    "date = random.choice(img_score_by_date.keys())\n",
    "#date = \"2015/10/12\"\n",
    "#date = \"2016/03/07\"\n",
    "print date\n",
    "\n",
    "#demo_imgs = [(imgid, img_score[imgid]) for imgid in img_by_date[date]]\n",
    "demo_imgs = img_score_by_date[date]\n",
    "\n",
    "plt.hist(map(lambda x: x[1], demo_imgs), bins=30)\n",
    "\n",
    "img_path = \"../data/img/\"\n",
    "def testPlot(imgid, score):\n",
    "    plt.figure()\n",
    "    \n",
    "    plt.title(\"%s_%s\"%(imgid, score))\n",
    "    img = Image.open(img_path+\"%s.jpg\"%imgid)\n",
    "    plt.imshow(img)\n",
    "    plt.axis('off')\n",
    "    \n",
    "    plt.show()\n",
    "    \n",
    "for imgid, score in sorted(demo_imgs, key=lambda x: x[1], reverse=True):\n",
    "    if os.path.exists(img_path+\"%s.jpg\"%imgid):\n",
    "        testPlot(imgid, score)"
   ]
  },
  {
   "cell_type": "code",
   "execution_count": null,
   "metadata": {
    "collapsed": false
   },
   "outputs": [],
   "source": [
    "# prepare train and valid dataset\n",
    "import random\n",
    "\n",
    "def split_dataset(dataset, p):\n",
    "    \"\"\"\n",
    "    return train_dataset, valid_dataset\n",
    "    \"\"\"\n",
    "    random.shuffle(dataset)\n",
    "    valid_size = int(len(dataset)*p)\n",
    "    return dataset[:-valid_size], dataset[-valid_size:]\n",
    "\n",
    "train_list = []\n",
    "valid_list = []\n",
    "p = 0.1 # valid_data ratio\n",
    "k = 10 # compare with k images for each train image\n",
    "delta = 0.5 # if abs(sa-sb) < delta, then abort this comparation pair\n",
    "for date, imgs in img_score_by_date.items():\n",
    "    train_imgs, valid_imgs = split_dataset(imgs, p)\n",
    "    cmp_k = len(train_imgs) > k and k or len(train_imgs)\n",
    "    \n",
    "    for img_a, s_a in train_imgs:\n",
    "        cmp_imgs = random.sample(train_imgs, cmp_k)\n",
    "        for img_b, s_b in cmp_imgs:\n",
    "            if abs(s_a-s_b) < delta:\n",
    "                continue\n",
    "            cmp_ret = s_a > s_b and 1 or 0\n",
    "            train_list.append((img_a, s_a, img_b, s_b, cmp_ret))\n",
    "            \n",
    "    for img_a, s_a in valid_imgs:\n",
    "        cmp_imgs = random.sample(train_imgs, cmp_k)\n",
    "        for img_b, s_b in cmp_imgs:\n",
    "            if abs(s_a-s_b) < delta:\n",
    "                continue\n",
    "            cmp_ret = s_a > s_b and 1 or 0\n",
    "            valid_list.append((img_a, s_a, img_b, s_b, cmp_ret))\n",
    "            \n",
    "print \"Length of Train List: %d\"%len(train_list)\n",
    "print \"Length of Valid List: %d\"%len(valid_list)"
   ]
  },
  {
   "cell_type": "code",
   "execution_count": null,
   "metadata": {
    "collapsed": false
   },
   "outputs": [],
   "source": [
    "%matplotlib inline\n",
    "from PIL import Image\n",
    "import matplotlib.pyplot as plt\n",
    "import random\n",
    "import os\n",
    "\n",
    "img_path = \"../data/img/\"\n",
    "def cmpPlot(imgid_a, s_a, imgid_b, s_b):\n",
    "    plt.figure()\n",
    "    \n",
    "    plt.subplot(1, 2, 1)\n",
    "    plt.title(\"%s_%s\"%(imgid_a, s_a))\n",
    "    img = Image.open(img_path+\"%s.jpg\"%imgid_a)\n",
    "    plt.imshow(img)\n",
    "    plt.axis('off')\n",
    "    \n",
    "    plt.subplot(1, 2, 2)\n",
    "    plt.title(\"%s_%s\"%(imgid_b, s_b))\n",
    "    img = Image.open(img_path+\"%s.jpg\"%imgid_b)\n",
    "    plt.imshow(img)\n",
    "    plt.axis('off')\n",
    "    \n",
    "    plt.show()\n",
    "    \n",
    "for imgA, sA, imgB, sB, cmpret in random.sample(train_list, 30):\n",
    "    if os.path.exists(img_path+\"%s.jpg\"%imgA) and os.path.exists(img_path+\"%s.jpg\"%imgB):\n",
    "        cmpPlot(imgA, sA, imgB, sB)"
   ]
  },
  {
   "cell_type": "code",
   "execution_count": null,
   "metadata": {
    "collapsed": true
   },
   "outputs": [],
   "source": []
  }
 ],
 "metadata": {
  "kernelspec": {
   "display_name": "Python 2",
   "language": "python",
   "name": "python2"
  },
  "language_info": {
   "codemirror_mode": {
    "name": "ipython",
    "version": 2
   },
   "file_extension": ".py",
   "mimetype": "text/x-python",
   "name": "python",
   "nbconvert_exporter": "python",
   "pygments_lexer": "ipython2",
   "version": "2.7.13"
  }
 },
 "nbformat": 4,
 "nbformat_minor": 0
}
