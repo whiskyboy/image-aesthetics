{
 "cells": [
  {
   "cell_type": "code",
   "execution_count": null,
   "metadata": {
    "collapsed": true
   },
   "outputs": [],
   "source": [
    "img_score = {}\n",
    "with open(\"../data/img_score.csv\", 'r') as fin:\n",
    "    for line in fin:\n",
    "        imgid, score = line.strip().split(\"\\t\")\n",
    "        img_score[imgid] = float(score)"
   ]
  },
  {
   "cell_type": "code",
   "execution_count": null,
   "metadata": {
    "collapsed": false
   },
   "outputs": [],
   "source": [
    "import numpy as np\n",
    "\n",
    "#LAMBDA = 0.1\n",
    "alpha = 1.0\n",
    "belta = 1.0\n",
    "def get_score(zan_num, cai_num, clk_num):\n",
    "    zan_num = max(zan_num - 1, 0)\n",
    "    cai_num = cai_num\n",
    "    #return np.log(clk_num*(zan_num*LAMBDA+1)/(cai_num+1)+1)\n",
    "    return np.power(alpha*zan_num-cai_num, belta) + np.log(clk_num+1)\n",
    "\n",
    "img_by_date = {}\n",
    "with open(\"../data/img_attr.csv\", 'r') as fin:\n",
    "    for line in fin:\n",
    "        fields = line.strip().split(\"\\t\")\n",
    "        if len(fields) != 7:\n",
    "            continue\n",
    "        imgid = fields[0]\n",
    "        zan_num = int(fields[1])\n",
    "        cai_num = int(fields[2])\n",
    "        clk_num = int(fields[3])\n",
    "        score = get_score(zan_num, cai_num, clk_num)\n",
    "        date = fields[5]\n",
    "        img_by_date.setdefault(date, [])\n",
    "        img_by_date[date].append((imgid, score))"
   ]
  },
  {
   "cell_type": "code",
   "execution_count": null,
   "metadata": {
    "collapsed": false
   },
   "outputs": [],
   "source": [
    "import random\n",
    "import os\n",
    "\n",
    "date = random.choice(img_by_date.keys())\n",
    "date = \"2015/10/12\"\n",
    "#date = \"2016/03/07\"\n",
    "print date\n",
    "\n",
    "#demo_imgs = [(imgid, img_score[imgid]) for imgid in img_by_date[date]]\n",
    "demo_imgs = img_by_date[date]"
   ]
  },
  {
   "cell_type": "code",
   "execution_count": null,
   "metadata": {
    "collapsed": false
   },
   "outputs": [],
   "source": [
    "%matplotlib inline\n",
    "from PIL import Image\n",
    "import matplotlib.pyplot as plt\n",
    "import random\n",
    "\n",
    "img_path = \"../data/img/\"\n",
    "def testPlot(imgid, score):\n",
    "    plt.figure()\n",
    "    \n",
    "    plt.title(\"%s_%s\"%(imgid, score))\n",
    "    img = Image.open(img_path+\"%s.jpg\"%imgid)\n",
    "    plt.imshow(img)\n",
    "    plt.axis('off')\n",
    "    \n",
    "    plt.show()\n",
    "    \n",
    "for imgid, score in sorted(demo_imgs, key=lambda x: x[1], reverse=True):\n",
    "    if os.path.exists(img_path+\"%s.jpg\"%imgid):\n",
    "        testPlot(imgid, score)"
   ]
  },
  {
   "cell_type": "code",
   "execution_count": null,
   "metadata": {
    "collapsed": true
   },
   "outputs": [],
   "source": []
  }
 ],
 "metadata": {
  "kernelspec": {
   "display_name": "Python 2",
   "language": "python",
   "name": "python2"
  },
  "language_info": {
   "codemirror_mode": {
    "name": "ipython",
    "version": 2
   },
   "file_extension": ".py",
   "mimetype": "text/x-python",
   "name": "python",
   "nbconvert_exporter": "python",
   "pygments_lexer": "ipython2",
   "version": "2.7.13"
  }
 },
 "nbformat": 4,
 "nbformat_minor": 0
}
