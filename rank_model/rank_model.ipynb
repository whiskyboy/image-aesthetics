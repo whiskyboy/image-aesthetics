{
 "cells": [
  {
   "cell_type": "code",
   "execution_count": 1,
   "metadata": {},
   "outputs": [
    {
     "name": "stderr",
     "output_type": "stream",
     "text": [
      "Using Theano backend.\n",
      "WARNING (theano.sandbox.cuda): The cuda backend is deprecated and will be removed in the next release (v0.10).  Please switch to the gpuarray backend. You can get more information about how to switch at this URL:\n",
      " https://github.com/Theano/Theano/wiki/Converting-to-the-new-gpu-back-end%28gpuarray%29\n",
      "\n",
      "Using gpu device 0: GeForce GTX 1060 6GB (CNMeM is disabled, cuDNN 5110)\n"
     ]
    },
    {
     "name": "stdout",
     "output_type": "stream",
     "text": [
      "____________________________________________________________________________________________________\n",
      "Layer (type)                     Output Shape          Param #     Connected to                     \n",
      "====================================================================================================\n",
      "input_1 (InputLayer)             (None, 2048)          0                                            \n",
      "____________________________________________________________________________________________________\n",
      "input_2 (InputLayer)             (None, 2048)          0                                            \n",
      "____________________________________________________________________________________________________\n",
      "sequential_1 (Sequential)        (None, 256)           2365696     input_1[0][0]                    \n",
      "                                                                   input_2[0][0]                    \n",
      "____________________________________________________________________________________________________\n",
      "concatenate_1 (Concatenate)      (None, 512)           0           sequential_1[1][0]               \n",
      "                                                                   sequential_1[2][0]               \n",
      "____________________________________________________________________________________________________\n",
      "dense_3 (Dense)                  (None, 256)           131328      concatenate_1[0][0]              \n",
      "____________________________________________________________________________________________________\n",
      "batch_normalization_3 (BatchNorm (None, 256)           1024        dense_3[0][0]                    \n",
      "____________________________________________________________________________________________________\n",
      "dropout_3 (Dropout)              (None, 256)           0           batch_normalization_3[0][0]      \n",
      "____________________________________________________________________________________________________\n",
      "dense_4 (Dense)                  (None, 2)             514         dropout_3[0][0]                  \n",
      "====================================================================================================\n",
      "Total params: 2,498,562\n",
      "Trainable params: 2,495,490\n",
      "Non-trainable params: 3,072\n",
      "____________________________________________________________________________________________________\n"
     ]
    }
   ],
   "source": [
    "# define the model\n",
    "from keras.models import Model, Sequential\n",
    "from keras.layers import Input, Dense, concatenate\n",
    "from keras.layers.normalization import BatchNormalization\n",
    "from keras.layers.core import Dropout\n",
    "from keras import optimizers\n",
    "from keras.utils import to_categorical\n",
    "\n",
    "img_feature_a = Input(shape=(2048,))\n",
    "img_feature_b = Input(shape=(2048,))\n",
    "\n",
    "shared_fc_layer = Sequential([\n",
    "    Dense(1024, activation='relu', input_shape=(2048, )),\n",
    "    BatchNormalization(),\n",
    "    Dropout(0.5),\n",
    "    Dense(256, activation='relu'),\n",
    "    BatchNormalization(), \n",
    "    Dropout(0.5),\n",
    "])\n",
    "\n",
    "encoded_a = shared_fc_layer(img_feature_a)\n",
    "encoded_b = shared_fc_layer(img_feature_b)\n",
    "\n",
    "merged_vector = concatenate([encoded_a, encoded_b])\n",
    "\n",
    "#x = merged_vector\n",
    "x = Dense(256, activation='relu')(merged_vector)\n",
    "x = BatchNormalization()(x)\n",
    "x = Dropout(0.5)(x)\n",
    "output = Dense(2, activation='softmax')(x)\n",
    "\n",
    "model = Model(inputs=[img_feature_a, img_feature_b], outputs=output)\n",
    "\n",
    "optimizer = optimizers.RMSprop(lr=1e-3, rho=0.9, epsilon=1e-08, decay=0.0)\n",
    "model.compile(optimizer=optimizer,\n",
    "              loss='categorical_crossentropy',\n",
    "              metrics=['accuracy'])\n",
    "\n",
    "model.summary()"
   ]
  },
  {
   "cell_type": "code",
   "execution_count": 2,
   "metadata": {
    "collapsed": true
   },
   "outputs": [],
   "source": [
    "# data prepare\n",
    "import cPickle as pickle\n",
    "import numpy as np\n",
    "import lmdb\n",
    "import random\n",
    "\n",
    "env = lmdb.open(\"./data/features\")\n",
    "txn = env.begin()\n",
    "\n",
    "def get_XY(dataset):\n",
    "    X1 = []\n",
    "    X2 = []\n",
    "    Y = []\n",
    "    for img_a, s_a, img_b, s_b, cmpret in dataset:\n",
    "        feature_a = txn.get(img_a)\n",
    "        feature_b = txn.get(img_b)\n",
    "        if feature_a is None or feature_b is None:\n",
    "            continue\n",
    "        feature_a = np.fromstring(feature_a, np.float32)\n",
    "        feature_b = np.fromstring(feature_b, np.float32)\n",
    "        X1.append(feature_a)\n",
    "        X2.append(feature_b)\n",
    "        Y.append(cmpret)\n",
    "    X1 = np.array(X1)\n",
    "    X2 = np.array(X2)\n",
    "    Y = to_categorical(np.array(Y), num_classes=2)\n",
    "    return X1, X2, Y\n",
    "\n",
    "batch_size = 128\n",
    "train_list = pickle.load(open(\"./data/train.list\", 'rb'))\n",
    "valid_list = pickle.load(open(\"./data/valid.list\", 'rb'))\n",
    "X1_train, X2_train, Y_train = get_XY(train_list)\n",
    "X1_valid, X2_valid, Y_valid = get_XY(valid_list)\n",
    "\n",
    "env.close()"
   ]
  },
  {
   "cell_type": "code",
   "execution_count": 3,
   "metadata": {},
   "outputs": [
    {
     "name": "stdout",
     "output_type": "stream",
     "text": [
      "Train on 754378 samples, validate on 45499 samples\n",
      "Epoch 1/10\n",
      "754378/754378 [==============================] - 332s - loss: 0.6395 - acc: 0.6386 - val_loss: 0.6965 - val_acc: 0.5786\n",
      "Epoch 2/10\n",
      "754378/754378 [==============================] - 107s - loss: 0.5579 - acc: 0.7156 - val_loss: 0.7476 - val_acc: 0.5789\n",
      "Epoch 3/10\n",
      "754378/754378 [==============================] - 61s - loss: 0.5206 - acc: 0.7445 - val_loss: 0.7614 - val_acc: 0.5617\n",
      "Epoch 4/10\n",
      "754378/754378 [==============================] - 57s - loss: 0.4951 - acc: 0.7624 - val_loss: 0.7579 - val_acc: 0.5734\n",
      "Epoch 5/10\n",
      "754378/754378 [==============================] - 56s - loss: 0.4797 - acc: 0.7720 - val_loss: 0.7549 - val_acc: 0.5723\n",
      "Epoch 6/10\n",
      "754378/754378 [==============================] - 56s - loss: 0.4761 - acc: 0.7741 - val_loss: 0.7459 - val_acc: 0.5732\n",
      "Epoch 7/10\n",
      "754378/754378 [==============================] - 56s - loss: 0.4750 - acc: 0.7752 - val_loss: 0.7557 - val_acc: 0.5680\n",
      "Epoch 8/10\n",
      "754378/754378 [==============================] - 55s - loss: 0.4766 - acc: 0.7743 - val_loss: 0.7696 - val_acc: 0.5635\n",
      "Epoch 9/10\n",
      "754378/754378 [==============================] - 56s - loss: 0.4656 - acc: 0.7815 - val_loss: 0.7719 - val_acc: 0.5621\n",
      "Epoch 10/10\n",
      "754378/754378 [==============================] - 56s - loss: 0.4605 - acc: 0.7842 - val_loss: 0.7682 - val_acc: 0.5812\n"
     ]
    },
    {
     "data": {
      "text/plain": [
       "<keras.callbacks.History at 0x7f0d6bc6a9d0>"
      ]
     },
     "execution_count": 3,
     "metadata": {},
     "output_type": "execute_result"
    }
   ],
   "source": [
    "# training the model\n",
    "optimizer = optimizers.RMSprop(lr=1e-3, rho=0.9, epsilon=1e-08, decay=0.0)\n",
    "model.compile(optimizer=optimizer,\n",
    "              loss='categorical_crossentropy',\n",
    "              metrics=['accuracy'])\n",
    "\n",
    "model.fit([X1_train, X2_train], Y_train, batch_size=batch_size, epochs=10, shuffle=True,\n",
    "         validation_data=([X1_valid, X2_valid], Y_valid))"
   ]
  },
  {
   "cell_type": "code",
   "execution_count": 4,
   "metadata": {
    "collapsed": true
   },
   "outputs": [],
   "source": [
    "model.save_weights(\"./data/rank_model.h5\")"
   ]
  },
  {
   "cell_type": "code",
   "execution_count": null,
   "metadata": {
    "collapsed": true
   },
   "outputs": [],
   "source": []
  }
 ],
 "metadata": {
  "kernelspec": {
   "display_name": "Python 2",
   "language": "python",
   "name": "python2"
  },
  "language_info": {
   "codemirror_mode": {
    "name": "ipython",
    "version": 2
   },
   "file_extension": ".py",
   "mimetype": "text/x-python",
   "name": "python",
   "nbconvert_exporter": "python",
   "pygments_lexer": "ipython2",
   "version": "2.7.13"
  }
 },
 "nbformat": 4,
 "nbformat_minor": 2
}
