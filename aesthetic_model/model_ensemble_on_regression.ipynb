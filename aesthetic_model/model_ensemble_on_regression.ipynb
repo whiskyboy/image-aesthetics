{
 "cells": [
  {
   "cell_type": "markdown",
   "metadata": {},
   "source": [
    "# 总结：\n",
    "\n",
    "分别使用end2end训练和pretrained的mobilenet提取照片的隐层feature，通过一个全连接层对照片进行美观度的打分。\n",
    "\n",
    "整体分类准确率基本维持在72%-73%之间。其中：\n",
    "1. 正样本预测准确率为71%，召回率为76%\n",
    "2. 负样本预测准确率为74%，召回率为70%"
   ]
  },
  {
   "cell_type": "markdown",
   "metadata": {},
   "source": [
    "## 训练"
   ]
  },
  {
   "cell_type": "code",
   "execution_count": 1,
   "metadata": {},
   "outputs": [
    {
     "name": "stderr",
     "output_type": "stream",
     "text": [
      "Using TensorFlow backend.\n"
     ]
    }
   ],
   "source": [
    "from keras.models import Model, Sequential, save_model, load_model\n",
    "from keras.layers import Input, Dense, Activation, Add, Lambda, Concatenate, Reshape, Conv2D\n",
    "from keras.layers.normalization import BatchNormalization\n",
    "from keras.layers.core import Dropout\n",
    "from keras import optimizers\n",
    "import keras.backend as K\n",
    "import numpy as np"
   ]
  },
  {
   "cell_type": "code",
   "execution_count": 2,
   "metadata": {},
   "outputs": [
    {
     "name": "stdout",
     "output_type": "stream",
     "text": [
      "____________________________________________________________________________________________________\n",
      "Layer (type)                     Output Shape          Param #     Connected to                     \n",
      "====================================================================================================\n",
      "input_1 (InputLayer)             (None, 1024)          0                                            \n",
      "____________________________________________________________________________________________________\n",
      "input_2 (InputLayer)             (None, 1024)          0                                            \n",
      "____________________________________________________________________________________________________\n",
      "concatenate_1 (Concatenate)      (None, 2048)          0           input_1[0][0]                    \n",
      "                                                                   input_2[0][0]                    \n",
      "____________________________________________________________________________________________________\n",
      "dense_1 (Dense)                  (None, 1024)          2098176     concatenate_1[0][0]              \n",
      "____________________________________________________________________________________________________\n",
      "batch_normalization_1 (BatchNorm (None, 1024)          4096        dense_1[0][0]                    \n",
      "____________________________________________________________________________________________________\n",
      "dropout_1 (Dropout)              (None, 1024)          0           batch_normalization_1[0][0]      \n",
      "____________________________________________________________________________________________________\n",
      "dense_2 (Dense)                  (None, 1)             1025        dropout_1[0][0]                  \n",
      "====================================================================================================\n",
      "Total params: 2,103,297\n",
      "Trainable params: 2,101,249\n",
      "Non-trainable params: 2,048\n",
      "____________________________________________________________________________________________________\n"
     ]
    }
   ],
   "source": [
    "aesthetic_fea = Input(shape=(1024, ))\n",
    "semantic_fea = Input(shape=(1024, ))\n",
    "\n",
    "merge_fea = Concatenate()([aesthetic_fea, semantic_fea])\n",
    "\n",
    "x = Dense(1024, activation=\"selu\")(merge_fea)\n",
    "x = BatchNormalization()(x)\n",
    "x = Dropout(0.5)(x)\n",
    "    \n",
    "output = Dense(1, activation=\"linear\")(x)\n",
    "\n",
    "aesthetic_model = Model(inputs=[aesthetic_fea, semantic_fea], outputs=output)\n",
    "\n",
    "optimizer = optimizers.Adam(lr=0.001, beta_1=0.9, beta_2=0.999, epsilon=1e-08, decay=0.0)\n",
    "aesthetic_model.compile(optimizer=optimizer,\n",
    "              loss='mse',\n",
    "              metrics=['mae'])\n",
    "\n",
    "aesthetic_model.summary()"
   ]
  },
  {
   "cell_type": "code",
   "execution_count": 8,
   "metadata": {
    "collapsed": true
   },
   "outputs": [],
   "source": [
    "import pandas as pd\n",
    "import lmdb\n",
    "import random\n",
    "\n",
    "trainset = pd.read_csv(\"./data/train.lst\", \n",
    "                       dtype={\"imgid\": np.str, \"rating\": np.float, \"label\": np.int}).values.tolist()\n",
    "testset = pd.read_csv(\"./data/test.lst\", \n",
    "                      dtype={\"imgid\": np.str, \"rating\": np.float, \"label\": np.int}).values.tolist()\n",
    "\n",
    "aesthetic_env = lmdb.open(\"../generic_features/data/aesthetic_features_on_regression.lmdb/\")\n",
    "semantic_env = lmdb.open(\"../generic_features/data/semantic_features.lmdb/\")\n",
    "aesthetic_txn = aesthetic_env.begin()\n",
    "semantic_txn = semantic_env.begin()\n",
    "\n",
    "batch_size = 64\n",
    "\n",
    "def get_feature(imgid):\n",
    "    aes_feature = np.fromstring(aesthetic_txn.get(imgid), np.float32)\n",
    "    sem_feature = np.fromstring(semantic_txn.get(imgid), np.float32)\n",
    "    return aes_feature, sem_feature\n",
    "\n",
    "def generate_batch(dataset, batch_size, shuffle=True):\n",
    "    while True:\n",
    "        if shuffle:\n",
    "            random.shuffle(dataset)\n",
    "            \n",
    "        for index in range(0, len(dataset), batch_size):\n",
    "            if index + batch_size > len(dataset):\n",
    "                current_batch_size = len(dataset) - index\n",
    "            else:\n",
    "                current_batch_size = batch_size\n",
    "            index_array = dataset[index:index+current_batch_size]\n",
    "            \n",
    "            batch_x1 = np.zeros((current_batch_size, 1024), dtype=K.floatx())\n",
    "            batch_x2 = np.zeros((current_batch_size, 1024), dtype=K.floatx())\n",
    "            batch_y = np.zeros((current_batch_size, ), dtype=K.floatx())\n",
    "            for i, (imgid, rating, label) in enumerate(index_array):\n",
    "                x1, x2 = get_feature(imgid)\n",
    "                batch_x1[i] = x1\n",
    "                batch_x2[i] = x2\n",
    "                batch_y[i] = rating\n",
    "            yield ([batch_x1, batch_x2], batch_y)"
   ]
  },
  {
   "cell_type": "code",
   "execution_count": 9,
   "metadata": {},
   "outputs": [
    {
     "name": "stdout",
     "output_type": "stream",
     "text": [
      "Epoch 1/10\n",
      "3530/3530 [==============================] - 15s - loss: 0.3544 - mean_absolute_error: 0.4665 - val_loss: 0.4225 - val_mean_absolute_error: 0.4723\n",
      "Epoch 2/10\n",
      "3530/3530 [==============================] - 16s - loss: 0.3524 - mean_absolute_error: 0.4648 - val_loss: 0.3566 - val_mean_absolute_error: 0.4539\n",
      "Epoch 3/10\n",
      "3530/3530 [==============================] - 15s - loss: 0.3508 - mean_absolute_error: 0.4640 - val_loss: 0.3708 - val_mean_absolute_error: 0.4623\n",
      "Epoch 4/10\n",
      "3530/3530 [==============================] - 16s - loss: 0.3489 - mean_absolute_error: 0.4626 - val_loss: 0.3565 - val_mean_absolute_error: 0.4607\n",
      "Epoch 5/10\n",
      "3530/3530 [==============================] - 16s - loss: 0.3479 - mean_absolute_error: 0.4619 - val_loss: 0.3651 - val_mean_absolute_error: 0.4591\n",
      "Epoch 6/10\n",
      "3530/3530 [==============================] - 16s - loss: 0.3452 - mean_absolute_error: 0.4602 - val_loss: 0.3617 - val_mean_absolute_error: 0.4666\n",
      "Epoch 7/10\n",
      "3530/3530 [==============================] - 16s - loss: 0.3428 - mean_absolute_error: 0.4583 - val_loss: 0.3496 - val_mean_absolute_error: 0.4513\n",
      "Epoch 8/10\n",
      "3530/3530 [==============================] - 16s - loss: 0.3424 - mean_absolute_error: 0.4582 - val_loss: 0.4123 - val_mean_absolute_error: 0.4608\n",
      "Epoch 9/10\n",
      "3530/3530 [==============================] - 16s - loss: 0.3417 - mean_absolute_error: 0.4575 - val_loss: 0.4120 - val_mean_absolute_error: 0.4598\n",
      "Epoch 10/10\n",
      "3530/3530 [==============================] - 16s - loss: 0.3402 - mean_absolute_error: 0.4563 - val_loss: 0.3605 - val_mean_absolute_error: 0.4526\n"
     ]
    },
    {
     "data": {
      "text/plain": [
       "<keras.callbacks.History at 0x7fa54c517410>"
      ]
     },
     "execution_count": 9,
     "metadata": {},
     "output_type": "execute_result"
    }
   ],
   "source": [
    "aesthetic_model.fit_generator(generate_batch(trainset, batch_size), \n",
    "                              steps_per_epoch=len(trainset) // batch_size, \n",
    "                              validation_data=generate_batch(testset, batch_size), \n",
    "                              validation_steps=len(testset) // batch_size,\n",
    "                              epochs=10)"
   ]
  },
  {
   "cell_type": "code",
   "execution_count": 10,
   "metadata": {
    "collapsed": true
   },
   "outputs": [],
   "source": [
    "aesthetic_model.save_weights(\"./model/ensemble_model_on_regression.h5\")"
   ]
  },
  {
   "cell_type": "markdown",
   "metadata": {},
   "source": [
    "## 预测"
   ]
  },
  {
   "cell_type": "code",
   "execution_count": 11,
   "metadata": {
    "collapsed": true
   },
   "outputs": [],
   "source": [
    "aesthetic_model.load_weights(\"./model/ensemble_model_on_regression.h5\")"
   ]
  },
  {
   "cell_type": "code",
   "execution_count": 12,
   "metadata": {
    "collapsed": true
   },
   "outputs": [],
   "source": [
    "testset = pd.read_csv(\"./data/test.lst\", \n",
    "                      dtype={\"imgid\": np.str, \"rating\": np.float, \"label\": np.int})\n",
    "\n",
    "imgids = testset.imgid.values\n",
    "ratings = testset.rating.values\n",
    "labels = testset.label.values\n",
    "probs = aesthetic_model.predict_generator(generate_batch(testset.values.tolist(), batch_size, shuffle=False),\n",
    "                                  steps = len(testset) // batch_size + 1)[:, 0]\n",
    "#preds = (probs > 0.5).astype(np.int)\n",
    "probs[probs>10]=10\n",
    "probs[probs<0]=0"
   ]
  },
  {
   "cell_type": "code",
   "execution_count": 13,
   "metadata": {},
   "outputs": [
    {
     "data": {
      "image/png": "[encoded data removed]",
      "text/plain": [
       "<matplotlib.figure.Figure at 0x7fa6ace44ed0>"
      ]
     },
     "metadata": {},
     "output_type": "display_data"
    },
    {
     "name": "stdout",
     "output_type": "stream",
     "text": [
      "Spearman: 0.599\n"
     ]
    }
   ],
   "source": [
    "%matplotlib inline\n",
    "from scipy.stats import spearmanr\n",
    "import matplotlib.pyplot as plt\n",
    "\n",
    "plt.plot(ratings, probs, \"*\")\n",
    "plt.show()\n",
    "\n",
    "print \"Spearman: %.3f\"%spearmanr(ratings, probs)[0]"
   ]
  },
  {
   "cell_type": "code",
   "execution_count": null,
   "metadata": {
    "collapsed": true
   },
   "outputs": [],
   "source": [
    "%matplotlib inline\n",
    "from PIL import Image\n",
    "import matplotlib.pyplot as plt\n",
    "import random\n",
    "\n",
    "n_view = 20\n",
    "img_path = \"../dataset/AVA/imgs/\"\n",
    "def imgPlot(imgid, title):\n",
    "    plt.figure()\n",
    "    \n",
    "    plt.title(\"%s\"%title)\n",
    "    img = Image.open(img_path+\"%s.jpg\"%imgid)\n",
    "    plt.imshow(img)\n",
    "    plt.axis('off')\n",
    "    \n",
    "    plt.show()"
   ]
  },
  {
   "cell_type": "markdown",
   "metadata": {},
   "source": [
    "- The images we most confident were beautiful, and are actually beautiful"
   ]
  },
  {
   "cell_type": "code",
   "execution_count": null,
   "metadata": {
    "collapsed": true
   },
   "outputs": [],
   "source": [
    "correct_imgs = np.where((preds==1) & (labels==1))[0]\n",
    "most_correct_imgs = np.argsort(probs[correct_imgs])[::-1][:n_view]\n",
    "for idx in correct_imgs[most_correct_imgs]:\n",
    "    imgid = imgids[idx]\n",
    "    title = \"%.4f, %.2f\"%(probs[idx], ratings[idx])\n",
    "    imgPlot(imgid, title)"
   ]
  },
  {
   "cell_type": "markdown",
   "metadata": {},
   "source": [
    "- The images we most confident were ugly, and are actually ugly"
   ]
  },
  {
   "cell_type": "code",
   "execution_count": null,
   "metadata": {
    "collapsed": true
   },
   "outputs": [],
   "source": [
    "correct_imgs = np.where((preds==0) & (labels==0))[0]\n",
    "most_correct_imgs = np.argsort(probs[correct_imgs])[:n_view]\n",
    "for idx in correct_imgs[most_correct_imgs]:\n",
    "    imgid = imgids[idx]\n",
    "    title = \"%.4f, %.2f\"%(1-probs[idx], ratings[idx])\n",
    "    imgPlot(imgid, title)"
   ]
  },
  {
   "cell_type": "markdown",
   "metadata": {},
   "source": [
    "- The images we most confident were beautiful, but are actually ugly"
   ]
  },
  {
   "cell_type": "code",
   "execution_count": null,
   "metadata": {
    "collapsed": true
   },
   "outputs": [],
   "source": [
    "incorrect_imgs = np.where((preds==1) & (labels==0))[0]\n",
    "most_incorrect_imgs = np.argsort(probs[incorrect_imgs])[::-1][:n_view]\n",
    "for idx in incorrect_imgs[most_incorrect_imgs]:\n",
    "    imgid = imgids[idx]\n",
    "    title = \"%.4f, %.2f\"%(probs[idx], ratings[idx])\n",
    "    imgPlot(imgid, title)"
   ]
  },
  {
   "cell_type": "markdown",
   "metadata": {},
   "source": [
    "- The images we most confident were ugly, but are actually beautiful"
   ]
  },
  {
   "cell_type": "code",
   "execution_count": null,
   "metadata": {
    "collapsed": true
   },
   "outputs": [],
   "source": [
    "incorrect_imgs = np.where((preds==0) & (labels==1))[0]\n",
    "most_incorrect_imgs = np.argsort(probs[incorrect_imgs])[:n_view]\n",
    "for idx in incorrect_imgs[most_incorrect_imgs]:\n",
    "    imgid = imgids[idx]\n",
    "    title = \"%.4f, %.2f\"%(1-probs[idx], ratings[idx])\n",
    "    imgPlot(imgid, title)"
   ]
  },
  {
   "cell_type": "markdown",
   "metadata": {},
   "source": [
    "- The most uncertain labels (ie those with probability closest to 0.5)."
   ]
  },
  {
   "cell_type": "code",
   "execution_count": null,
   "metadata": {
    "collapsed": true
   },
   "outputs": [],
   "source": [
    "most_uncertain = np.argsort(np.abs(probs-0.5))[:n_view]\n",
    "for idx in most_uncertain:\n",
    "    imgid = imgids[idx]\n",
    "    title = \"%.4f, %.2f\"%(probs[idx], ratings[idx])\n",
    "    imgPlot(imgid, title)"
   ]
  },
  {
   "cell_type": "markdown",
   "metadata": {},
   "source": [
    "- confusion matrix"
   ]
  },
  {
   "cell_type": "code",
   "execution_count": null,
   "metadata": {
    "collapsed": true
   },
   "outputs": [],
   "source": [
    "import itertools\n",
    "from sklearn.metrics import confusion_matrix\n",
    "\n",
    "def plot_confusion_matrix(cm, classes, normalize=False, title='Confusion matrix', cmap=plt.cm.Blues):\n",
    "    \"\"\"\n",
    "    This function prints and plots the confusion matrix.\n",
    "    Normalization can be applied by setting `normalize=True`.\n",
    "    (This function is copied from the scikit docs.)\n",
    "    \"\"\"\n",
    "    plt.figure()\n",
    "    plt.imshow(cm, interpolation='nearest', cmap=cmap)\n",
    "    plt.title(title)\n",
    "    plt.colorbar()\n",
    "    tick_marks = np.arange(len(classes))\n",
    "    plt.xticks(tick_marks, classes, rotation=45)\n",
    "    plt.yticks(tick_marks, classes)\n",
    "\n",
    "    if normalize:\n",
    "        cm = cm.astype('float') / cm.sum(axis=1)[:, np.newaxis]\n",
    "    thresh = cm.max() / 2.\n",
    "    for i, j in itertools.product(range(cm.shape[0]), range(cm.shape[1])):\n",
    "        plt.text(j, i, cm[i, j], horizontalalignment=\"center\", color=\"white\" if cm[i, j] > thresh else \"black\")\n",
    "\n",
    "    plt.tight_layout()\n",
    "    plt.ylabel('True label')\n",
    "    plt.xlabel('Predicted label')\n",
    "\n",
    "cm = confusion_matrix(labels, preds)\n",
    "print(cm)\n",
    "plot_confusion_matrix(cm, [\"ugly\", \"beautiful\"], normalize=True)"
   ]
  },
  {
   "cell_type": "code",
   "execution_count": null,
   "metadata": {
    "collapsed": true
   },
   "outputs": [],
   "source": [
    "cm.astype('float') / cm.sum(axis=0)"
   ]
  },
  {
   "cell_type": "code",
   "execution_count": null,
   "metadata": {
    "collapsed": true
   },
   "outputs": [],
   "source": []
  }
 ],
 "metadata": {
  "kernelspec": {
   "display_name": "Python 2",
   "language": "python",
   "name": "python2"
  },
  "language_info": {
   "codemirror_mode": {
    "name": "ipython",
    "version": 2
   },
   "file_extension": ".py",
   "mimetype": "text/x-python",
   "name": "python",
   "nbconvert_exporter": "python",
   "pygments_lexer": "ipython2",
   "version": "2.7.13"
  }
 },
 "nbformat": 4,
 "nbformat_minor": 2
}
