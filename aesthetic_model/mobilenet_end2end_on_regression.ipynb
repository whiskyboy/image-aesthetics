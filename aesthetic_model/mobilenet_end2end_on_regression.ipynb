{
 "cells": [
  {
   "cell_type": "markdown",
   "metadata": {},
   "source": [
    "# 总结：\n",
    "\n",
    "End2end训练一个MobileNete的**回归模型**对照片进行美观度打分。\n",
    "\n",
    "整体分类准确率基本维持在69%-70%附近。其中：\n",
    "1. 正样本预测准确率为69%，召回率为72%\n",
    "2. 负样本预测准确率为70%，召回率为68%\n",
    "\n",
    "与ImageNet Pretrained的mobilenet相比，准召上恰好互补。因此有理由相信二者的bagging会带来准召的进一步提升。"
   ]
  },
  {
   "cell_type": "markdown",
   "metadata": {},
   "source": [
    "## 训练"
   ]
  },
  {
   "cell_type": "code",
   "execution_count": 1,
   "metadata": {},
   "outputs": [
    {
     "name": "stderr",
     "output_type": "stream",
     "text": [
      "Using TensorFlow backend.\n"
     ]
    }
   ],
   "source": [
    "from keras.applications.mobilenet import MobileNet\n",
    "from keras.preprocessing import image\n",
    "from keras.applications.mobilenet import preprocess_input\n",
    "\n",
    "from keras.models import Model, Sequential, save_model, load_model\n",
    "from keras.layers import Input, Dense, Conv2D, MaxPooling2D, Flatten, Activation, Add, Lambda, Concatenate\n",
    "from keras.layers.normalization import BatchNormalization\n",
    "from keras.layers.core import Dropout\n",
    "from keras import optimizers\n",
    "import keras.backend as K\n",
    "import numpy as np"
   ]
  },
  {
   "cell_type": "code",
   "execution_count": 2,
   "metadata": {},
   "outputs": [
    {
     "name": "stdout",
     "output_type": "stream",
     "text": [
      "_________________________________________________________________\n",
      "Layer (type)                 Output Shape              Param #   \n",
      "=================================================================\n",
      "input_1 (InputLayer)         (None, 224, 224, 3)       0         \n",
      "_________________________________________________________________\n",
      "mobilenet_1.00_224 (Model)   (None, 1024)              3228864   \n",
      "_________________________________________________________________\n",
      "dense_1 (Dense)              (None, 1024)              1049600   \n",
      "_________________________________________________________________\n",
      "batch_normalization_1 (Batch (None, 1024)              4096      \n",
      "_________________________________________________________________\n",
      "dropout_1 (Dropout)          (None, 1024)              0         \n",
      "_________________________________________________________________\n",
      "dense_2 (Dense)              (None, 1)                 1025      \n",
      "=================================================================\n",
      "Total params: 4,283,585\n",
      "Trainable params: 4,259,649\n",
      "Non-trainable params: 23,936\n",
      "_________________________________________________________________\n"
     ]
    }
   ],
   "source": [
    "input_shape = (224, 224, 3)\n",
    "\n",
    "img = Input(shape=input_shape)\n",
    "\n",
    "mobilenet = MobileNet(input_shape=input_shape, weights=None, include_top=False, pooling='avg')\n",
    "x = mobilenet(img)\n",
    "x = Dense(1024, activation='selu')(x)\n",
    "x = BatchNormalization()(x)\n",
    "x = Dropout(0.5)(x)\n",
    "\n",
    "output = Dense(1, activation=\"linear\")(x)\n",
    "\n",
    "aesthetic_model = Model(inputs=img, outputs=output)\n",
    "\n",
    "optimizer = optimizers.Adam(lr=0.001, beta_1=0.9, beta_2=0.999, epsilon=1e-08, decay=0.0)\n",
    "aesthetic_model.compile(optimizer=optimizer,\n",
    "              loss='mse',\n",
    "              metrics=['mae'])\n",
    "\n",
    "aesthetic_model.summary()"
   ]
  },
  {
   "cell_type": "code",
   "execution_count": 3,
   "metadata": {
    "collapsed": true
   },
   "outputs": [],
   "source": [
    "import pandas as pd\n",
    "import random\n",
    "\n",
    "trainset = pd.read_csv(\"./data/train.lst\", \n",
    "                       dtype={\"imgid\": np.str, \"rating\": np.float, \"label\": np.int}).values.tolist()\n",
    "testset = pd.read_csv(\"./data/test.lst\", \n",
    "                      dtype={\"imgid\": np.str, \"rating\": np.float, \"label\": np.int}).values.tolist()\n",
    "batch_size = 16\n",
    "\n",
    "img_path = \"../dataset/AVA/imgs/\"\n",
    "\n",
    "def random_crop(image, crop_size):\n",
    "    w, h = image.shape[:-1]\n",
    "    rangew = w - crop_size[0]\n",
    "    rangeh = h - crop_size[1]\n",
    "    assert(rangew >= 0 and rangeh >= 0)\n",
    "    offsetw = 0 if rangew == 0 else np.random.randint(rangew)\n",
    "    offseth = 0 if rangeh == 0 else np.random.randint(rangeh)\n",
    "    return image[offsetw:offsetw+crop_size[0], offseth:offseth+crop_size[1], :]\n",
    "\n",
    "def load_img_array(imgid, target_size):\n",
    "    filename = img_path+\"%s.jpg\"%imgid\n",
    "    img = image.load_img(filename, target_size=(256, 256))\n",
    "    x = image.img_to_array(img)\n",
    "    x = preprocess_input(x)\n",
    "    cropped_x = random_crop(x, crop_size=target_size)\n",
    "    return cropped_x\n",
    "\n",
    "def generate_batch(dataset, batch_size, target_size, shuffle=True):\n",
    "    while True:\n",
    "        if shuffle:\n",
    "            random.shuffle(dataset)\n",
    "            \n",
    "        for index in range(0, len(dataset), batch_size):\n",
    "            if index + batch_size > len(dataset):\n",
    "                current_batch_size = len(dataset) - index\n",
    "            else:\n",
    "                current_batch_size = batch_size\n",
    "            index_array = dataset[index:index+current_batch_size]\n",
    "            \n",
    "            batch_x = np.zeros((current_batch_size, ) + target_size, dtype=K.floatx())\n",
    "            batch_y = np.zeros((current_batch_size, ), dtype=K.floatx())\n",
    "            for i, (imgid, rating, label) in enumerate(index_array):\n",
    "                x = load_img_array(imgid, target_size)\n",
    "                batch_x[i] = x\n",
    "                batch_y[i] = rating\n",
    "            yield (batch_x, batch_y)"
   ]
  },
  {
   "cell_type": "code",
   "execution_count": 4,
   "metadata": {},
   "outputs": [
    {
     "name": "stdout",
     "output_type": "stream",
     "text": [
      "Max rating of trainset: 8.600\n",
      "Min rating of trainset: 1.809\n",
      "Mean rating of trainset: 5.391\n",
      "Std rating of trainset: 0.725\n",
      "*****************************\n",
      "Max rating of testset: 8.044\n",
      "Min rating of testset: 2.164\n",
      "Mean rating of testset: 5.387\n",
      "Std rating of testset: 0.725\n"
     ]
    }
   ],
   "source": [
    "rating = np.array(map(lambda x: x[1], trainset))\n",
    "print \"Max rating of trainset: %.3f\"%rating.max()\n",
    "print \"Min rating of trainset: %.3f\"%rating.min()\n",
    "print \"Mean rating of trainset: %.3f\"%rating.mean()\n",
    "print \"Std rating of trainset: %.3f\"%rating.std()\n",
    "\n",
    "print \"*****************************\"\n",
    "\n",
    "rating = np.array(map(lambda x: x[1], testset))\n",
    "print \"Max rating of testset: %.3f\"%rating.max()\n",
    "print \"Min rating of testset: %.3f\"%rating.min()\n",
    "print \"Mean rating of testset: %.3f\"%rating.mean()\n",
    "print \"Std rating of testset: %.3f\"%rating.std()"
   ]
  },
  {
   "cell_type": "code",
   "execution_count": 5,
   "metadata": {},
   "outputs": [
    {
     "name": "stdout",
     "output_type": "stream",
     "text": [
      "Epoch 1/1\n",
      "14122/14122 [==============================] - 3198s - loss: 1.0318 - mean_absolute_error: 0.7352 - val_loss: 0.5716 - val_mean_absolute_error: 0.5972\n",
      "Epoch 1/1\n",
      "14122/14122 [==============================] - 3210s - loss: 0.5619 - mean_absolute_error: 0.5918 - val_loss: 0.4601 - val_mean_absolute_error: 0.5347\n",
      "Epoch 1/1\n",
      "14122/14122 [==============================] - 3273s - loss: 0.4878 - mean_absolute_error: 0.5512 - val_loss: 0.4789 - val_mean_absolute_error: 0.5449\n",
      "Epoch 1/1\n",
      "14122/14122 [==============================] - 3286s - loss: 0.4622 - mean_absolute_error: 0.5362 - val_loss: 0.4178 - val_mean_absolute_error: 0.5071\n",
      "Epoch 1/1\n",
      "14122/14122 [==============================] - 3302s - loss: 0.4465 - mean_absolute_error: 0.5267 - val_loss: 0.4723 - val_mean_absolute_error: 0.5393\n",
      "Epoch 1/1\n",
      "14122/14122 [==============================] - 3321s - loss: 0.4357 - mean_absolute_error: 0.5199 - val_loss: 0.4144 - val_mean_absolute_error: 0.5020\n",
      "Epoch 1/1\n",
      "14122/14122 [==============================] - 3314s - loss: 0.4252 - mean_absolute_error: 0.5131 - val_loss: 0.4119 - val_mean_absolute_error: 0.5028\n",
      "Epoch 1/1\n",
      "14122/14122 [==============================] - 3295s - loss: 0.4178 - mean_absolute_error: 0.5083 - val_loss: 0.4460 - val_mean_absolute_error: 0.5019\n",
      "Epoch 1/1\n",
      "14122/14122 [==============================] - 3320s - loss: 0.4114 - mean_absolute_error: 0.5043 - val_loss: 0.3895 - val_mean_absolute_error: 0.4888\n",
      "Epoch 1/1\n",
      "14122/14122 [==============================] - 3337s - loss: 0.4058 - mean_absolute_error: 0.5006 - val_loss: 0.4205 - val_mean_absolute_error: 0.5059\n",
      "Epoch 1/1\n",
      "14122/14122 [==============================] - 3346s - loss: 0.4005 - mean_absolute_error: 0.4970 - val_loss: 0.4276 - val_mean_absolute_error: 0.5101\n",
      "Epoch 1/1\n",
      "14122/14122 [==============================] - 3370s - loss: 0.3958 - mean_absolute_error: 0.4943 - val_loss: 0.3891 - val_mean_absolute_error: 0.4855\n",
      "Epoch 1/1\n",
      "14122/14122 [==============================] - 3380s - loss: 0.3913 - mean_absolute_error: 0.4914 - val_loss: 0.3928 - val_mean_absolute_error: 0.4867\n",
      "Epoch 1/1\n",
      "14122/14122 [==============================] - 3391s - loss: 0.3871 - mean_absolute_error: 0.4887 - val_loss: 0.4377 - val_mean_absolute_error: 0.5083\n",
      "Epoch 1/1\n",
      "14122/14122 [==============================] - 3374s - loss: 0.3848 - mean_absolute_error: 0.4872 - val_loss: 0.4162 - val_mean_absolute_error: 0.5104\n",
      "Epoch 1/1\n",
      " 3366/14122 [======>.......................] - ETA: 2481s - loss: 0.3838 - mean_absolute_error: 0.4858"
     ]
    },
    {
     "ename": "KeyboardInterrupt",
     "evalue": "",
     "output_type": "error",
     "traceback": [
      "\u001b[0;31m---------------------------------------------------------------------------\u001b[0m",
      "\u001b[0;31mKeyboardInterrupt\u001b[0m                         Traceback (most recent call last)",
      "\u001b[0;32m<ipython-input-5-15a77653eb4a>\u001b[0m in \u001b[0;36m<module>\u001b[0;34m()\u001b[0m\n\u001b[1;32m      4\u001b[0m                                   \u001b[0mvalidation_data\u001b[0m\u001b[0;34m=\u001b[0m\u001b[0mgenerate_batch\u001b[0m\u001b[0;34m(\u001b[0m\u001b[0mtestset\u001b[0m\u001b[0;34m,\u001b[0m \u001b[0mbatch_size\u001b[0m\u001b[0;34m,\u001b[0m \u001b[0mtarget_size\u001b[0m\u001b[0;34m=\u001b[0m\u001b[0minput_shape\u001b[0m\u001b[0;34m)\u001b[0m\u001b[0;34m,\u001b[0m\u001b[0;34m\u001b[0m\u001b[0m\n\u001b[1;32m      5\u001b[0m                                   \u001b[0mvalidation_steps\u001b[0m\u001b[0;34m=\u001b[0m\u001b[0mlen\u001b[0m\u001b[0;34m(\u001b[0m\u001b[0mtestset\u001b[0m\u001b[0;34m)\u001b[0m \u001b[0;34m//\u001b[0m \u001b[0mbatch_size\u001b[0m\u001b[0;34m,\u001b[0m\u001b[0;34m\u001b[0m\u001b[0m\n\u001b[0;32m----> 6\u001b[0;31m                                   epochs=1)\n\u001b[0m\u001b[1;32m      7\u001b[0m     \u001b[0maesthetic_model\u001b[0m\u001b[0;34m.\u001b[0m\u001b[0msave_weights\u001b[0m\u001b[0;34m(\u001b[0m\u001b[0;34m\"./model/aesthetic_mobilenet_on_regression_pass=%d.h5\"\u001b[0m\u001b[0;34m%\u001b[0m\u001b[0m_pass\u001b[0m\u001b[0;34m)\u001b[0m\u001b[0;34m\u001b[0m\u001b[0m\n",
      "\u001b[0;32m/home/tian/anaconda2/lib/python2.7/site-packages/keras/legacy/interfaces.pyc\u001b[0m in \u001b[0;36mwrapper\u001b[0;34m(*args, **kwargs)\u001b[0m\n\u001b[1;32m     85\u001b[0m                 warnings.warn('Update your `' + object_name +\n\u001b[1;32m     86\u001b[0m                               '` call to the Keras 2 API: ' + signature, stacklevel=2)\n\u001b[0;32m---> 87\u001b[0;31m             \u001b[0;32mreturn\u001b[0m \u001b[0mfunc\u001b[0m\u001b[0;34m(\u001b[0m\u001b[0;34m*\u001b[0m\u001b[0margs\u001b[0m\u001b[0;34m,\u001b[0m \u001b[0;34m**\u001b[0m\u001b[0mkwargs\u001b[0m\u001b[0;34m)\u001b[0m\u001b[0;34m\u001b[0m\u001b[0m\n\u001b[0m\u001b[1;32m     88\u001b[0m         \u001b[0mwrapper\u001b[0m\u001b[0;34m.\u001b[0m\u001b[0m_original_function\u001b[0m \u001b[0;34m=\u001b[0m \u001b[0mfunc\u001b[0m\u001b[0;34m\u001b[0m\u001b[0m\n\u001b[1;32m     89\u001b[0m         \u001b[0;32mreturn\u001b[0m \u001b[0mwrapper\u001b[0m\u001b[0;34m\u001b[0m\u001b[0m\n",
      "\u001b[0;32m/home/tian/anaconda2/lib/python2.7/site-packages/keras/engine/training.pyc\u001b[0m in \u001b[0;36mfit_generator\u001b[0;34m(self, generator, steps_per_epoch, epochs, verbose, callbacks, validation_data, validation_steps, class_weight, max_queue_size, workers, use_multiprocessing, initial_epoch)\u001b[0m\n\u001b[1;32m   1838\u001b[0m                     outs = self.train_on_batch(x, y,\n\u001b[1;32m   1839\u001b[0m                                                \u001b[0msample_weight\u001b[0m\u001b[0;34m=\u001b[0m\u001b[0msample_weight\u001b[0m\u001b[0;34m,\u001b[0m\u001b[0;34m\u001b[0m\u001b[0m\n\u001b[0;32m-> 1840\u001b[0;31m                                                class_weight=class_weight)\n\u001b[0m\u001b[1;32m   1841\u001b[0m \u001b[0;34m\u001b[0m\u001b[0m\n\u001b[1;32m   1842\u001b[0m                     \u001b[0;32mif\u001b[0m \u001b[0;32mnot\u001b[0m \u001b[0misinstance\u001b[0m\u001b[0;34m(\u001b[0m\u001b[0mouts\u001b[0m\u001b[0;34m,\u001b[0m \u001b[0mlist\u001b[0m\u001b[0;34m)\u001b[0m\u001b[0;34m:\u001b[0m\u001b[0;34m\u001b[0m\u001b[0m\n",
      "\u001b[0;32m/home/tian/anaconda2/lib/python2.7/site-packages/keras/engine/training.pyc\u001b[0m in \u001b[0;36mtrain_on_batch\u001b[0;34m(self, x, y, sample_weight, class_weight)\u001b[0m\n\u001b[1;32m   1563\u001b[0m             \u001b[0mins\u001b[0m \u001b[0;34m=\u001b[0m \u001b[0mx\u001b[0m \u001b[0;34m+\u001b[0m \u001b[0my\u001b[0m \u001b[0;34m+\u001b[0m \u001b[0msample_weights\u001b[0m\u001b[0;34m\u001b[0m\u001b[0m\n\u001b[1;32m   1564\u001b[0m         \u001b[0mself\u001b[0m\u001b[0;34m.\u001b[0m\u001b[0m_make_train_function\u001b[0m\u001b[0;34m(\u001b[0m\u001b[0;34m)\u001b[0m\u001b[0;34m\u001b[0m\u001b[0m\n\u001b[0;32m-> 1565\u001b[0;31m         \u001b[0moutputs\u001b[0m \u001b[0;34m=\u001b[0m \u001b[0mself\u001b[0m\u001b[0;34m.\u001b[0m\u001b[0mtrain_function\u001b[0m\u001b[0;34m(\u001b[0m\u001b[0mins\u001b[0m\u001b[0;34m)\u001b[0m\u001b[0;34m\u001b[0m\u001b[0m\n\u001b[0m\u001b[1;32m   1566\u001b[0m         \u001b[0;32mif\u001b[0m \u001b[0mlen\u001b[0m\u001b[0;34m(\u001b[0m\u001b[0moutputs\u001b[0m\u001b[0;34m)\u001b[0m \u001b[0;34m==\u001b[0m \u001b[0;36m1\u001b[0m\u001b[0;34m:\u001b[0m\u001b[0;34m\u001b[0m\u001b[0m\n\u001b[1;32m   1567\u001b[0m             \u001b[0;32mreturn\u001b[0m \u001b[0moutputs\u001b[0m\u001b[0;34m[\u001b[0m\u001b[0;36m0\u001b[0m\u001b[0;34m]\u001b[0m\u001b[0;34m\u001b[0m\u001b[0m\n",
      "\u001b[0;32m/home/tian/anaconda2/lib/python2.7/site-packages/keras/backend/tensorflow_backend.pyc\u001b[0m in \u001b[0;36m__call__\u001b[0;34m(self, inputs)\u001b[0m\n\u001b[1;32m   2266\u001b[0m         updated = session.run(self.outputs + [self.updates_op],\n\u001b[1;32m   2267\u001b[0m                               \u001b[0mfeed_dict\u001b[0m\u001b[0;34m=\u001b[0m\u001b[0mfeed_dict\u001b[0m\u001b[0;34m,\u001b[0m\u001b[0;34m\u001b[0m\u001b[0m\n\u001b[0;32m-> 2268\u001b[0;31m                               **self.session_kwargs)\n\u001b[0m\u001b[1;32m   2269\u001b[0m         \u001b[0;32mreturn\u001b[0m \u001b[0mupdated\u001b[0m\u001b[0;34m[\u001b[0m\u001b[0;34m:\u001b[0m\u001b[0mlen\u001b[0m\u001b[0;34m(\u001b[0m\u001b[0mself\u001b[0m\u001b[0;34m.\u001b[0m\u001b[0moutputs\u001b[0m\u001b[0;34m)\u001b[0m\u001b[0;34m]\u001b[0m\u001b[0;34m\u001b[0m\u001b[0m\n\u001b[1;32m   2270\u001b[0m \u001b[0;34m\u001b[0m\u001b[0m\n",
      "\u001b[0;32m/home/tian/anaconda2/lib/python2.7/site-packages/tensorflow/python/client/session.pyc\u001b[0m in \u001b[0;36mrun\u001b[0;34m(self, fetches, feed_dict, options, run_metadata)\u001b[0m\n\u001b[1;32m    787\u001b[0m     \u001b[0;32mtry\u001b[0m\u001b[0;34m:\u001b[0m\u001b[0;34m\u001b[0m\u001b[0m\n\u001b[1;32m    788\u001b[0m       result = self._run(None, fetches, feed_dict, options_ptr,\n\u001b[0;32m--> 789\u001b[0;31m                          run_metadata_ptr)\n\u001b[0m\u001b[1;32m    790\u001b[0m       \u001b[0;32mif\u001b[0m \u001b[0mrun_metadata\u001b[0m\u001b[0;34m:\u001b[0m\u001b[0;34m\u001b[0m\u001b[0m\n\u001b[1;32m    791\u001b[0m         \u001b[0mproto_data\u001b[0m \u001b[0;34m=\u001b[0m \u001b[0mtf_session\u001b[0m\u001b[0;34m.\u001b[0m\u001b[0mTF_GetBuffer\u001b[0m\u001b[0;34m(\u001b[0m\u001b[0mrun_metadata_ptr\u001b[0m\u001b[0;34m)\u001b[0m\u001b[0;34m\u001b[0m\u001b[0m\n",
      "\u001b[0;32m/home/tian/anaconda2/lib/python2.7/site-packages/tensorflow/python/client/session.pyc\u001b[0m in \u001b[0;36m_run\u001b[0;34m(self, handle, fetches, feed_dict, options, run_metadata)\u001b[0m\n\u001b[1;32m    995\u001b[0m     \u001b[0;32mif\u001b[0m \u001b[0mfinal_fetches\u001b[0m \u001b[0;32mor\u001b[0m \u001b[0mfinal_targets\u001b[0m\u001b[0;34m:\u001b[0m\u001b[0;34m\u001b[0m\u001b[0m\n\u001b[1;32m    996\u001b[0m       results = self._do_run(handle, final_targets, final_fetches,\n\u001b[0;32m--> 997\u001b[0;31m                              feed_dict_string, options, run_metadata)\n\u001b[0m\u001b[1;32m    998\u001b[0m     \u001b[0;32melse\u001b[0m\u001b[0;34m:\u001b[0m\u001b[0;34m\u001b[0m\u001b[0m\n\u001b[1;32m    999\u001b[0m       \u001b[0mresults\u001b[0m \u001b[0;34m=\u001b[0m \u001b[0;34m[\u001b[0m\u001b[0;34m]\u001b[0m\u001b[0;34m\u001b[0m\u001b[0m\n",
      "\u001b[0;32m/home/tian/anaconda2/lib/python2.7/site-packages/tensorflow/python/client/session.pyc\u001b[0m in \u001b[0;36m_do_run\u001b[0;34m(self, handle, target_list, fetch_list, feed_dict, options, run_metadata)\u001b[0m\n\u001b[1;32m   1130\u001b[0m     \u001b[0;32mif\u001b[0m \u001b[0mhandle\u001b[0m \u001b[0;32mis\u001b[0m \u001b[0mNone\u001b[0m\u001b[0;34m:\u001b[0m\u001b[0;34m\u001b[0m\u001b[0m\n\u001b[1;32m   1131\u001b[0m       return self._do_call(_run_fn, self._session, feed_dict, fetch_list,\n\u001b[0;32m-> 1132\u001b[0;31m                            target_list, options, run_metadata)\n\u001b[0m\u001b[1;32m   1133\u001b[0m     \u001b[0;32melse\u001b[0m\u001b[0;34m:\u001b[0m\u001b[0;34m\u001b[0m\u001b[0m\n\u001b[1;32m   1134\u001b[0m       return self._do_call(_prun_fn, self._session, handle, feed_dict,\n",
      "\u001b[0;32m/home/tian/anaconda2/lib/python2.7/site-packages/tensorflow/python/client/session.pyc\u001b[0m in \u001b[0;36m_do_call\u001b[0;34m(self, fn, *args)\u001b[0m\n\u001b[1;32m   1137\u001b[0m   \u001b[0;32mdef\u001b[0m \u001b[0m_do_call\u001b[0m\u001b[0;34m(\u001b[0m\u001b[0mself\u001b[0m\u001b[0;34m,\u001b[0m \u001b[0mfn\u001b[0m\u001b[0;34m,\u001b[0m \u001b[0;34m*\u001b[0m\u001b[0margs\u001b[0m\u001b[0;34m)\u001b[0m\u001b[0;34m:\u001b[0m\u001b[0;34m\u001b[0m\u001b[0m\n\u001b[1;32m   1138\u001b[0m     \u001b[0;32mtry\u001b[0m\u001b[0;34m:\u001b[0m\u001b[0;34m\u001b[0m\u001b[0m\n\u001b[0;32m-> 1139\u001b[0;31m       \u001b[0;32mreturn\u001b[0m \u001b[0mfn\u001b[0m\u001b[0;34m(\u001b[0m\u001b[0;34m*\u001b[0m\u001b[0margs\u001b[0m\u001b[0;34m)\u001b[0m\u001b[0;34m\u001b[0m\u001b[0m\n\u001b[0m\u001b[1;32m   1140\u001b[0m     \u001b[0;32mexcept\u001b[0m \u001b[0merrors\u001b[0m\u001b[0;34m.\u001b[0m\u001b[0mOpError\u001b[0m \u001b[0;32mas\u001b[0m \u001b[0me\u001b[0m\u001b[0;34m:\u001b[0m\u001b[0;34m\u001b[0m\u001b[0m\n\u001b[1;32m   1141\u001b[0m       \u001b[0mmessage\u001b[0m \u001b[0;34m=\u001b[0m \u001b[0mcompat\u001b[0m\u001b[0;34m.\u001b[0m\u001b[0mas_text\u001b[0m\u001b[0;34m(\u001b[0m\u001b[0me\u001b[0m\u001b[0;34m.\u001b[0m\u001b[0mmessage\u001b[0m\u001b[0;34m)\u001b[0m\u001b[0;34m\u001b[0m\u001b[0m\n",
      "\u001b[0;32m/home/tian/anaconda2/lib/python2.7/site-packages/tensorflow/python/client/session.pyc\u001b[0m in \u001b[0;36m_run_fn\u001b[0;34m(session, feed_dict, fetch_list, target_list, options, run_metadata)\u001b[0m\n\u001b[1;32m   1119\u001b[0m         return tf_session.TF_Run(session, options,\n\u001b[1;32m   1120\u001b[0m                                  \u001b[0mfeed_dict\u001b[0m\u001b[0;34m,\u001b[0m \u001b[0mfetch_list\u001b[0m\u001b[0;34m,\u001b[0m \u001b[0mtarget_list\u001b[0m\u001b[0;34m,\u001b[0m\u001b[0;34m\u001b[0m\u001b[0m\n\u001b[0;32m-> 1121\u001b[0;31m                                  status, run_metadata)\n\u001b[0m\u001b[1;32m   1122\u001b[0m \u001b[0;34m\u001b[0m\u001b[0m\n\u001b[1;32m   1123\u001b[0m     \u001b[0;32mdef\u001b[0m \u001b[0m_prun_fn\u001b[0m\u001b[0;34m(\u001b[0m\u001b[0msession\u001b[0m\u001b[0;34m,\u001b[0m \u001b[0mhandle\u001b[0m\u001b[0;34m,\u001b[0m \u001b[0mfeed_dict\u001b[0m\u001b[0;34m,\u001b[0m \u001b[0mfetch_list\u001b[0m\u001b[0;34m)\u001b[0m\u001b[0;34m:\u001b[0m\u001b[0;34m\u001b[0m\u001b[0m\n",
      "\u001b[0;31mKeyboardInterrupt\u001b[0m: "
     ]
    }
   ],
   "source": [
    "for _pass in range(30):\n",
    "    aesthetic_model.fit_generator(generate_batch(trainset, batch_size, target_size=input_shape), \n",
    "                                  steps_per_epoch=len(trainset) // batch_size, \n",
    "                                  validation_data=generate_batch(testset, batch_size, target_size=input_shape), \n",
    "                                  validation_steps=len(testset) // batch_size,\n",
    "                                  epochs=1)\n",
    "    aesthetic_model.save_weights(\"./model/aesthetic_mobilenet_on_regression_pass=%d.h5\"%_pass)"
   ]
  },
  {
   "cell_type": "code",
   "execution_count": 6,
   "metadata": {
    "collapsed": true
   },
   "outputs": [],
   "source": [
    "aesthetic_model.load_weights(\"./model/aesthetic_mobilenet_on_regression_pass=11.h5\")\n",
    "mobilenet.save_weights(\"./model/aesthetic_mobilenet_on_regression_without_top.h5\")"
   ]
  },
  {
   "cell_type": "markdown",
   "metadata": {},
   "source": [
    "## 预测"
   ]
  },
  {
   "cell_type": "code",
   "execution_count": 7,
   "metadata": {
    "collapsed": true
   },
   "outputs": [],
   "source": [
    "aesthetic_model.load_weights(\"./model/aesthetic_mobilenet_on_regression_pass=11.h5\")"
   ]
  },
  {
   "cell_type": "code",
   "execution_count": 8,
   "metadata": {
    "collapsed": true
   },
   "outputs": [],
   "source": [
    "testset = pd.read_csv(\"./data/test.lst\", \n",
    "                      dtype={\"imgid\": np.str, \"rating\": np.float, \"label\": np.int})\n",
    "\n",
    "imgids = testset.imgid.values\n",
    "ratings = testset.rating.values\n",
    "labels = testset.label.values\n",
    "probs = aesthetic_model.predict_generator(generate_batch(testset.values.tolist(), batch_size, shuffle=False, target_size=input_shape),\n",
    "                                  steps = len(testset) // batch_size + 1)[:, 0]\n",
    "#preds = (probs > 0.5).astype(np.int)"
   ]
  },
  {
   "cell_type": "code",
   "execution_count": 9,
   "metadata": {},
   "outputs": [
    {
     "data": {
      "image/png": "[encoded data removed]",
      "text/plain": [
       "<matplotlib.figure.Figure at 0x7fe0dc10dcd0>"
      ]
     },
     "metadata": {},
     "output_type": "display_data"
    },
    {
     "name": "stdout",
     "output_type": "stream",
     "text": [
      "Spearman: 0.524\n"
     ]
    }
   ],
   "source": [
    "%matplotlib inline\n",
    "from scipy.stats import spearmanr\n",
    "import matplotlib.pyplot as plt\n",
    "\n",
    "plt.plot(ratings, probs, \"*\")\n",
    "plt.show()\n",
    "\n",
    "print \"Spearman: %.3f\"%spearmanr(ratings, probs)[0]"
   ]
  },
  {
   "cell_type": "code",
   "execution_count": null,
   "metadata": {
    "collapsed": true
   },
   "outputs": [],
   "source": [
    "%matplotlib inline\n",
    "from PIL import Image\n",
    "import matplotlib.pyplot as plt\n",
    "import random\n",
    "\n",
    "n_view = 10\n",
    "img_path = \"../dataset/AVA/imgs/\"\n",
    "def imgPlot(imgid, title):\n",
    "    plt.figure()\n",
    "    \n",
    "    plt.title(\"%s\"%title)\n",
    "    img = Image.open(img_path+\"%s.jpg\"%imgid)\n",
    "    plt.imshow(img)\n",
    "    plt.axis('off')\n",
    "    \n",
    "    plt.show()"
   ]
  },
  {
   "cell_type": "markdown",
   "metadata": {},
   "source": [
    "- The images we most confident were beautiful, and are actually beautiful"
   ]
  },
  {
   "cell_type": "code",
   "execution_count": null,
   "metadata": {
    "collapsed": true
   },
   "outputs": [],
   "source": [
    "correct_imgs = np.where((preds==1) & (labels==1))[0]\n",
    "most_correct_imgs = np.argsort(probs[correct_imgs])[::-1][:n_view]\n",
    "for idx in correct_imgs[most_correct_imgs]:\n",
    "    imgid = imgids[idx]\n",
    "    title = \"%.4f, %.2f\"%(probs[idx], ratings[idx])\n",
    "    imgPlot(imgid, title)"
   ]
  },
  {
   "cell_type": "markdown",
   "metadata": {},
   "source": [
    "- The images we most confident were ugly, and are actually ugly"
   ]
  },
  {
   "cell_type": "code",
   "execution_count": null,
   "metadata": {
    "collapsed": true
   },
   "outputs": [],
   "source": [
    "correct_imgs = np.where((preds==0) & (labels==0))[0]\n",
    "most_correct_imgs = np.argsort(probs[correct_imgs])[:n_view]\n",
    "for idx in correct_imgs[most_correct_imgs]:\n",
    "    imgid = imgids[idx]\n",
    "    title = \"%.4f, %.2f\"%(1-probs[idx], ratings[idx])\n",
    "    imgPlot(imgid, title)"
   ]
  },
  {
   "cell_type": "markdown",
   "metadata": {},
   "source": [
    "- The images we most confident were beautiful, but are actually ugly"
   ]
  },
  {
   "cell_type": "code",
   "execution_count": null,
   "metadata": {
    "collapsed": true
   },
   "outputs": [],
   "source": [
    "incorrect_imgs = np.where((preds==1) & (labels==0))[0]\n",
    "most_incorrect_imgs = np.argsort(probs[incorrect_imgs])[::-1][:n_view]\n",
    "for idx in incorrect_imgs[most_incorrect_imgs]:\n",
    "    imgid = imgids[idx]\n",
    "    title = \"%.4f, %.2f\"%(probs[idx], ratings[idx])\n",
    "    imgPlot(imgid, title)"
   ]
  },
  {
   "cell_type": "markdown",
   "metadata": {},
   "source": [
    "- The images we most confident were ugly, but are actually beautiful"
   ]
  },
  {
   "cell_type": "code",
   "execution_count": null,
   "metadata": {
    "collapsed": true
   },
   "outputs": [],
   "source": [
    "incorrect_imgs = np.where((preds==0) & (labels==1))[0]\n",
    "most_incorrect_imgs = np.argsort(probs[incorrect_imgs])[:n_view]\n",
    "for idx in incorrect_imgs[most_incorrect_imgs]:\n",
    "    imgid = imgids[idx]\n",
    "    title = \"%.4f, %.2f\"%(1-probs[idx], ratings[idx])\n",
    "    imgPlot(imgid, title)"
   ]
  },
  {
   "cell_type": "markdown",
   "metadata": {},
   "source": [
    "- The most uncertain labels (ie those with probability closest to 0.5)."
   ]
  },
  {
   "cell_type": "code",
   "execution_count": null,
   "metadata": {
    "collapsed": true
   },
   "outputs": [],
   "source": [
    "most_uncertain = np.argsort(np.abs(probs-0.5))[:n_view]\n",
    "for idx in most_uncertain:\n",
    "    imgid = imgids[idx]\n",
    "    title = \"%.4f, %.2f\"%(probs[idx], ratings[idx])\n",
    "    imgPlot(imgid, title)"
   ]
  },
  {
   "cell_type": "markdown",
   "metadata": {},
   "source": [
    "- confusion matrix"
   ]
  },
  {
   "cell_type": "code",
   "execution_count": null,
   "metadata": {
    "collapsed": true
   },
   "outputs": [],
   "source": [
    "import itertools\n",
    "from sklearn.metrics import confusion_matrix\n",
    "\n",
    "def plot_confusion_matrix(cm, classes, normalize=False, title='Confusion matrix', cmap=plt.cm.Blues):\n",
    "    \"\"\"\n",
    "    This function prints and plots the confusion matrix.\n",
    "    Normalization can be applied by setting `normalize=True`.\n",
    "    (This function is copied from the scikit docs.)\n",
    "    \"\"\"\n",
    "    plt.figure()\n",
    "    plt.imshow(cm, interpolation='nearest', cmap=cmap)\n",
    "    plt.title(title)\n",
    "    plt.colorbar()\n",
    "    tick_marks = np.arange(len(classes))\n",
    "    plt.xticks(tick_marks, classes, rotation=45)\n",
    "    plt.yticks(tick_marks, classes)\n",
    "\n",
    "    if normalize:\n",
    "        cm = cm.astype('float') / cm.sum(axis=1)[:, np.newaxis]\n",
    "    thresh = cm.max() / 2.\n",
    "    for i, j in itertools.product(range(cm.shape[0]), range(cm.shape[1])):\n",
    "        plt.text(j, i, cm[i, j], horizontalalignment=\"center\", color=\"white\" if cm[i, j] > thresh else \"black\")\n",
    "\n",
    "    plt.tight_layout()\n",
    "    plt.ylabel('True label')\n",
    "    plt.xlabel('Predicted label')\n",
    "\n",
    "cm = confusion_matrix(labels, preds)\n",
    "print(cm)\n",
    "plot_confusion_matrix(cm, [\"ugly\", \"beautiful\"], normalize=True)"
   ]
  },
  {
   "cell_type": "code",
   "execution_count": null,
   "metadata": {
    "collapsed": true
   },
   "outputs": [],
   "source": [
    "cm.astype('float') / cm.sum(axis=0)"
   ]
  },
  {
   "cell_type": "markdown",
   "metadata": {
    "collapsed": true
   },
   "source": [
    "## Finetune with more confidence-classfied images"
   ]
  },
  {
   "cell_type": "code",
   "execution_count": null,
   "metadata": {
    "collapsed": true
   },
   "outputs": [],
   "source": [
    "aesthetic_model.load_weights(\"./model/aesthetic_mobilenet.h5\")"
   ]
  },
  {
   "cell_type": "code",
   "execution_count": null,
   "metadata": {},
   "outputs": [],
   "source": [
    "ft_trainset = filter(lambda x: x[1] > 6.0 or x[1] < 4.0, trainset)\n",
    "ft_testset = filter(lambda x: x[1] > 6.0 or x[1] < 4.0, testset)\n",
    "print \"Size of Finetune Trainset: %d\"%len(ft_trainset)\n",
    "print \"Size of Finetune Testset: %d\"%len(ft_testset)\n",
    "len(filter(lambda x: x[2]==0, ft_trainset))"
   ]
  },
  {
   "cell_type": "code",
   "execution_count": null,
   "metadata": {},
   "outputs": [],
   "source": [
    "aesthetic_model.evaluate_generator(generate_batch(testset, batch_size, target_size=input_shape), \n",
    "                                   len(testset) // batch_size)"
   ]
  },
  {
   "cell_type": "code",
   "execution_count": null,
   "metadata": {},
   "outputs": [],
   "source": [
    "optimizer = optimizers.Adam(lr=0.0001, beta_1=0.9, beta_2=0.999, epsilon=1e-08, decay=0.0)\n",
    "aesthetic_model.compile(optimizer=optimizer,\n",
    "              loss='binary_crossentropy',\n",
    "              metrics=['accuracy'])\n",
    "\n",
    "for _pass in range(20):\n",
    "    aesthetic_model.fit_generator(generate_batch(ft_trainset, batch_size, target_size=input_shape), \n",
    "                                  steps_per_epoch=len(ft_trainset) // batch_size, \n",
    "                                  validation_data=generate_batch(ft_testset, batch_size, target_size=input_shape), \n",
    "                                  validation_steps=len(ft_testset) // batch_size,\n",
    "                                  epochs=1)\n",
    "    aesthetic_model.save_weights(\"./model/aesthetic_mobilenet_pass=%d.h5\"%_pass)"
   ]
  },
  {
   "cell_type": "code",
   "execution_count": null,
   "metadata": {
    "collapsed": true
   },
   "outputs": [],
   "source": [
    "aesthetic_model.load_weights(\"./model/aesthetic_mobilenet_pass=4.h5\")\n",
    "mobilenet.save_weights(\"./model/aesthetic_mobilenet_without_top.h5\")"
   ]
  },
  {
   "cell_type": "code",
   "execution_count": null,
   "metadata": {
    "collapsed": true
   },
   "outputs": [],
   "source": []
  }
 ],
 "metadata": {
  "kernelspec": {
   "display_name": "Python 2",
   "language": "python",
   "name": "python2"
  },
  "language_info": {
   "codemirror_mode": {
    "name": "ipython",
    "version": 2
   },
   "file_extension": ".py",
   "mimetype": "text/x-python",
   "name": "python",
   "nbconvert_exporter": "python",
   "pygments_lexer": "ipython2",
   "version": "2.7.13"
  }
 },
 "nbformat": 4,
 "nbformat_minor": 2
}
