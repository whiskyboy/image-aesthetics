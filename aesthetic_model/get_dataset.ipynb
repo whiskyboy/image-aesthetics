{
 "cells": [
  {
   "cell_type": "code",
   "execution_count": 1,
   "metadata": {},
   "outputs": [
    {
     "name": "stderr",
     "output_type": "stream",
     "text": [
      "Using TensorFlow backend.\n"
     ]
    }
   ],
   "source": [
    "import pandas as pd\n",
    "import numpy as np\n",
    "from PIL import Image\n",
    "from keras.preprocessing import image\n",
    "import os, random\n",
    "import cPickle as pickle\n",
    "from tqdm import tqdm"
   ]
  },
  {
   "cell_type": "code",
   "execution_count": 12,
   "metadata": {},
   "outputs": [
    {
     "name": "stderr",
     "output_type": "stream",
     "text": [
      "100%|██████████| 254782/254782 [29:17<00:00, 144.96it/s]\n"
     ]
    },
    {
     "name": "stdout",
     "output_type": "stream",
     "text": [
      "Number of valid images: 252810\n",
      "Average RGB: (107.75, 99.35, 90.52)\n"
     ]
    }
   ],
   "source": [
    "VALID_IMGID_SET = set()\n",
    "R, G, B = 0, 0, 0\n",
    "\n",
    "img_path = \"../dataset/AVA/imgs/\"\n",
    "for imgfile in tqdm(os.listdir(img_path)):\n",
    "    try:\n",
    "        im = image.load_img(img_path + imgfile)\n",
    "        if im.size[0] < 256 or im.size[1] < 256:\n",
    "            continue\n",
    "        x = image.img_to_array(im)\n",
    "        pixes = x.shape[0] * x.shape[1] * 1.0\n",
    "        R += x[:,:,0].sum() / pixes\n",
    "        G += x[:,:,1].sum() / pixes\n",
    "        B += x[:,:,2].sum() / pixes\n",
    "        imgid = os.path.splitext(imgfile)[0]\n",
    "        VALID_IMGID_SET.add(imgid)\n",
    "    except:\n",
    "        continue\n",
    "\n",
    "R /= len(VALID_IMGID_SET)\n",
    "G /= len(VALID_IMGID_SET)\n",
    "B /= len(VALID_IMGID_SET)\n",
    "\n",
    "pickle.dump(VALID_IMGID_SET, open(\"./data/imgids.h5\", 'wb'))\n",
    "pickle.dump((R, G, B), open(\"./data/RGB.h5\", 'wb'))\n",
    "\n",
    "print \"Number of valid images: %d\" % len(VALID_IMGID_SET)\n",
    "print \"Average RGB: (%.2f, %.2f, %.2f)\" % (R, G, B)"
   ]
  },
  {
   "cell_type": "code",
   "execution_count": 2,
   "metadata": {},
   "outputs": [
    {
     "name": "stdout",
     "output_type": "stream",
     "text": [
      "Size of train dataset: 225952\n",
      "Size of test dataset: 25179\n"
     ]
    }
   ],
   "source": [
    "VALID_IMGID_SET = pickle.load(open(\"./data/imgids.h5\", 'rb'))\n",
    "ava_file = \"../dataset/AVA/AVA.txt\"\n",
    "train_delta = 0\n",
    "test_delta = 0\n",
    "p = 0.1\n",
    "min_voting_num = 100\n",
    "\n",
    "def classify(rating, mean, delta):\n",
    "    if rating > mean + delta:\n",
    "        return 1\n",
    "    elif rating < mean - delta:\n",
    "        return 0\n",
    "    else:\n",
    "        return None\n",
    "\n",
    "high_quality_trainset = []\n",
    "low_quality_trainset = []\n",
    "high_quality_testset = []\n",
    "low_quality_testset = []\n",
    "with open(ava_file, 'r') as fin:\n",
    "    for line in fin:\n",
    "        X = line.strip().split()\n",
    "        imgid = X[1]\n",
    "        ratings = np.array(X[2:12], dtype=np.int)\n",
    "        values = np.arange(1, 11.)\n",
    "        voting_num = ratings.sum()\n",
    "        rating_mean = (ratings * values).sum() / voting_num\n",
    "        if imgid not in VALID_IMGID_SET or voting_num <= min_voting_num:\n",
    "            continue\n",
    "        if random.random() > p:\n",
    "            # add to train\n",
    "            label = classify(rating_mean, 5, train_delta)\n",
    "            if label == 1:\n",
    "                high_quality_trainset.append((imgid, rating_mean, label))\n",
    "            elif label == 0:\n",
    "                low_quality_trainset.append((imgid, rating_mean, label))\n",
    "        else:\n",
    "            # add to test\n",
    "            label = classify(rating_mean, 5, test_delta)\n",
    "            if label == 1:\n",
    "                high_quality_testset.append((imgid, rating_mean, label))\n",
    "            elif label == 0:\n",
    "                low_quality_testset.append((imgid, rating_mean, label))\n",
    "                \n",
    "#size_of_train = min(len(high_quality_trainset), len(low_quality_trainset))\n",
    "#size_of_test = min(len(high_quality_testset), len(low_quality_testset))\n",
    "\n",
    "#trainset = random.sample(high_quality_trainset, size_of_train) + random.sample(low_quality_trainset, size_of_train)\n",
    "#testset = random.sample(high_quality_testset, size_of_test) + random.sample(low_quality_testset, size_of_test)\n",
    "\n",
    "trainset = high_quality_trainset + low_quality_trainset\n",
    "testset = high_quality_testset + low_quality_testset\n",
    "\n",
    "print \"Size of train dataset: %d\"%len(trainset)\n",
    "print \"Size of test dataset: %d\"%len(testset)\n",
    "\n",
    "trainset = pd.DataFrame(trainset, columns=[\"imgid\", \"rating\", \"label\"])\n",
    "testset = pd.DataFrame(testset, columns=[\"imgid\", \"rating\", \"label\"])\n",
    "\n",
    "trainset.to_csv(\"./data/train.lst\", index=False)\n",
    "testset.to_csv(\"./data/test.lst\", index=False)"
   ]
  },
  {
   "cell_type": "code",
   "execution_count": null,
   "metadata": {
    "collapsed": true
   },
   "outputs": [],
   "source": [
    "trainset = pd.read_csv(\"./data/train.lst\", dtype={\"imgid\": np.str, \"rating\": np.float, \"label\": np.int})\n",
    "testset = pd.read_csv(\"./data/test.lst\", dtype={\"imgid\": np.str, \"rating\": np.float, \"label\": np.int})"
   ]
  },
  {
   "cell_type": "code",
   "execution_count": null,
   "metadata": {
    "collapsed": true
   },
   "outputs": [],
   "source": [
    "%matplotlib inline\n",
    "from PIL import Image\n",
    "import matplotlib.pyplot as plt\n",
    "import random\n",
    "\n",
    "img_path = \"../dataset/AVA/imgs/\"\n",
    "def imgPlot(imgid, label):\n",
    "    plt.figure()\n",
    "    \n",
    "    plt.title(\"%s_%s\"%(imgid, label))\n",
    "    img = Image.open(img_path+\"%s.jpg\"%imgid)\n",
    "    plt.imshow(img)\n",
    "    plt.axis('off')\n",
    "    \n",
    "    plt.show()\n",
    "    \n",
    "for imgid, rating, label in trainset[trainset.label==1].sample(10).values:\n",
    "    imgPlot(imgid, label)\n",
    "    \n",
    "for imgid, rating, label in trainset[trainset.label==0].sample(10).values:\n",
    "    imgPlot(imgid, label)"
   ]
  },
  {
   "cell_type": "code",
   "execution_count": null,
   "metadata": {
    "collapsed": true
   },
   "outputs": [],
   "source": []
  }
 ],
 "metadata": {
  "kernelspec": {
   "display_name": "Python 2",
   "language": "python",
   "name": "python2"
  },
  "language_info": {
   "codemirror_mode": {
    "name": "ipython",
    "version": 2
   },
   "file_extension": ".py",
   "mimetype": "text/x-python",
   "name": "python",
   "nbconvert_exporter": "python",
   "pygments_lexer": "ipython2",
   "version": "2.7.13"
  }
 },
 "nbformat": 4,
 "nbformat_minor": 2
}
